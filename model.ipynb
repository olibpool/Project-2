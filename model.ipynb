{
 "cells": [
  {
   "cell_type": "markdown",
   "metadata": {},
   "source": [
    "# My model is random forests."
   ]
  },
  {
   "cell_type": "code",
   "execution_count": 92,
   "metadata": {},
   "outputs": [],
   "source": [
    "# import modules\n",
    "\n",
    "import numpy as np\n",
    "import pandas as pd\n",
    "import matplotlib.pyplot as plt\n",
    "%matplotlib inline"
   ]
  },
  {
   "cell_type": "code",
   "execution_count": 93,
   "metadata": {},
   "outputs": [
    {
     "data": {
      "text/html": [
       "<div>\n",
       "<style scoped>\n",
       "    .dataframe tbody tr th:only-of-type {\n",
       "        vertical-align: middle;\n",
       "    }\n",
       "\n",
       "    .dataframe tbody tr th {\n",
       "        vertical-align: top;\n",
       "    }\n",
       "\n",
       "    .dataframe thead th {\n",
       "        text-align: right;\n",
       "    }\n",
       "</style>\n",
       "<table border=\"1\" class=\"dataframe\">\n",
       "  <thead>\n",
       "    <tr style=\"text-align: right;\">\n",
       "      <th></th>\n",
       "      <th>isFraud</th>\n",
       "      <th>TransactionID</th>\n",
       "      <th>id_17</th>\n",
       "      <th>id_35</th>\n",
       "      <th>TransactionDT</th>\n",
       "      <th>card3</th>\n",
       "      <th>id_15</th>\n",
       "      <th>id_16</th>\n",
       "      <th>id_28</th>\n",
       "      <th>id_29</th>\n",
       "      <th>id_30</th>\n",
       "      <th>id_33</th>\n",
       "      <th>DeviceInfo</th>\n",
       "      <th>ProductCD</th>\n",
       "      <th>P_emaildomain</th>\n",
       "    </tr>\n",
       "  </thead>\n",
       "  <tbody>\n",
       "    <tr>\n",
       "      <th>0</th>\n",
       "      <td>0</td>\n",
       "      <td>2987000</td>\n",
       "      <td>NaN</td>\n",
       "      <td>NaN</td>\n",
       "      <td>86400</td>\n",
       "      <td>150.0</td>\n",
       "      <td>NaN</td>\n",
       "      <td>NaN</td>\n",
       "      <td>NaN</td>\n",
       "      <td>NaN</td>\n",
       "      <td>NaN</td>\n",
       "      <td>NaN</td>\n",
       "      <td>NaN</td>\n",
       "      <td>W</td>\n",
       "      <td>NaN</td>\n",
       "    </tr>\n",
       "    <tr>\n",
       "      <th>1</th>\n",
       "      <td>0</td>\n",
       "      <td>2987001</td>\n",
       "      <td>NaN</td>\n",
       "      <td>NaN</td>\n",
       "      <td>86401</td>\n",
       "      <td>150.0</td>\n",
       "      <td>NaN</td>\n",
       "      <td>NaN</td>\n",
       "      <td>NaN</td>\n",
       "      <td>NaN</td>\n",
       "      <td>NaN</td>\n",
       "      <td>NaN</td>\n",
       "      <td>NaN</td>\n",
       "      <td>W</td>\n",
       "      <td>gmail.com</td>\n",
       "    </tr>\n",
       "    <tr>\n",
       "      <th>2</th>\n",
       "      <td>0</td>\n",
       "      <td>2987002</td>\n",
       "      <td>NaN</td>\n",
       "      <td>NaN</td>\n",
       "      <td>86469</td>\n",
       "      <td>150.0</td>\n",
       "      <td>NaN</td>\n",
       "      <td>NaN</td>\n",
       "      <td>NaN</td>\n",
       "      <td>NaN</td>\n",
       "      <td>NaN</td>\n",
       "      <td>NaN</td>\n",
       "      <td>NaN</td>\n",
       "      <td>W</td>\n",
       "      <td>outlook.com</td>\n",
       "    </tr>\n",
       "    <tr>\n",
       "      <th>3</th>\n",
       "      <td>0</td>\n",
       "      <td>2987003</td>\n",
       "      <td>NaN</td>\n",
       "      <td>NaN</td>\n",
       "      <td>86499</td>\n",
       "      <td>150.0</td>\n",
       "      <td>NaN</td>\n",
       "      <td>NaN</td>\n",
       "      <td>NaN</td>\n",
       "      <td>NaN</td>\n",
       "      <td>NaN</td>\n",
       "      <td>NaN</td>\n",
       "      <td>NaN</td>\n",
       "      <td>W</td>\n",
       "      <td>yahoo.com</td>\n",
       "    </tr>\n",
       "    <tr>\n",
       "      <th>4</th>\n",
       "      <td>0</td>\n",
       "      <td>2987004</td>\n",
       "      <td>166.0</td>\n",
       "      <td>T</td>\n",
       "      <td>86506</td>\n",
       "      <td>150.0</td>\n",
       "      <td>New</td>\n",
       "      <td>NotFound</td>\n",
       "      <td>New</td>\n",
       "      <td>NotFound</td>\n",
       "      <td>Android 7.0</td>\n",
       "      <td>2220x1080</td>\n",
       "      <td>SAMSUNG SM-G892A Build/NRD90M</td>\n",
       "      <td>H</td>\n",
       "      <td>gmail.com</td>\n",
       "    </tr>\n",
       "  </tbody>\n",
       "</table>\n",
       "</div>"
      ],
      "text/plain": [
       "   isFraud  TransactionID  id_17 id_35  TransactionDT  card3 id_15     id_16  \\\n",
       "0        0        2987000    NaN   NaN          86400  150.0   NaN       NaN   \n",
       "1        0        2987001    NaN   NaN          86401  150.0   NaN       NaN   \n",
       "2        0        2987002    NaN   NaN          86469  150.0   NaN       NaN   \n",
       "3        0        2987003    NaN   NaN          86499  150.0   NaN       NaN   \n",
       "4        0        2987004  166.0     T          86506  150.0   New  NotFound   \n",
       "\n",
       "  id_28     id_29        id_30      id_33                     DeviceInfo  \\\n",
       "0   NaN       NaN          NaN        NaN                            NaN   \n",
       "1   NaN       NaN          NaN        NaN                            NaN   \n",
       "2   NaN       NaN          NaN        NaN                            NaN   \n",
       "3   NaN       NaN          NaN        NaN                            NaN   \n",
       "4   New  NotFound  Android 7.0  2220x1080  SAMSUNG SM-G892A Build/NRD90M   \n",
       "\n",
       "  ProductCD P_emaildomain  \n",
       "0         W           NaN  \n",
       "1         W     gmail.com  \n",
       "2         W   outlook.com  \n",
       "3         W     yahoo.com  \n",
       "4         H     gmail.com  "
      ]
     },
     "execution_count": 93,
     "metadata": {},
     "output_type": "execute_result"
    }
   ],
   "source": [
    "# import dataset1\n",
    "\n",
    "oli = pd.read_csv('Data/finaldataset.csv', index_col=0)\n",
    "\n",
    "oli.head()"
   ]
  },
  {
   "cell_type": "code",
   "execution_count": 94,
   "metadata": {},
   "outputs": [
    {
     "data": {
      "text/plain": [
       "['isFraud', 'TransactionID', 'id_17', 'TransactionDT', 'card3']"
      ]
     },
     "execution_count": 94,
     "metadata": {},
     "output_type": "execute_result"
    }
   ],
   "source": [
    "oli.select_dtypes(include=np.number).columns.to_list()"
   ]
  },
  {
   "cell_type": "code",
   "execution_count": 95,
   "metadata": {},
   "outputs": [
    {
     "data": {
      "text/plain": [
       "id_35               2\n",
       "id_15               3\n",
       "id_16               2\n",
       "id_28               2\n",
       "id_29               2\n",
       "id_30              75\n",
       "id_33             260\n",
       "DeviceInfo       1786\n",
       "ProductCD           5\n",
       "P_emaildomain      59\n",
       "dtype: int64"
      ]
     },
     "execution_count": 95,
     "metadata": {},
     "output_type": "execute_result"
    }
   ],
   "source": [
    "oli.select_dtypes(exclude=np.number).nunique()"
   ]
  },
  {
   "cell_type": "code",
   "execution_count": 96,
   "metadata": {},
   "outputs": [
    {
     "data": {
      "text/plain": [
       "['isFraud',\n",
       " 'TransactionID',\n",
       " 'id_17',\n",
       " 'id_35',\n",
       " 'TransactionDT',\n",
       " 'card3',\n",
       " 'id_15',\n",
       " 'id_16',\n",
       " 'id_28',\n",
       " 'id_29',\n",
       " 'id_30',\n",
       " 'id_33',\n",
       " 'DeviceInfo',\n",
       " 'ProductCD',\n",
       " 'P_emaildomain']"
      ]
     },
     "execution_count": 96,
     "metadata": {},
     "output_type": "execute_result"
    }
   ],
   "source": [
    "oli.columns.tolist()"
   ]
  },
  {
   "cell_type": "code",
   "execution_count": 97,
   "metadata": {},
   "outputs": [
    {
     "data": {
      "text/plain": [
       "array([nan, '2220x1080', '1334x750', '1280x800', '1366x768', '1920x1080',\n",
       "       '1680x1050', '1136x640', '5120x2880', '2880x1800', '1920x1200',\n",
       "       '2560x1600', '2048x1536', '1024x768', '1280x720', '2560x1440',\n",
       "       '2208x1242', '2001x1125', '1440x900', '1600x900', '2672x1440',\n",
       "       '1280x1024', '960x540', '2732x2048', '2436x1125', '2048x1152',\n",
       "       '2960x1440', '1024x600', '855x480', '4096x2304', '2160x1440',\n",
       "       '2562x1442', '801x480', '2736x1824', '3441x1440', '2880x1620',\n",
       "       '3840x2160', '1638x922', '1280x768', '1360x768', '1280x960',\n",
       "       '3440x1440', '1152x720', '1280x1025', '3360x2100', '2304x1296',\n",
       "       '1152x864', '3200x1800', '2112x1188', '2224x1668', '2400x1350',\n",
       "       '2000x1125', '1600x1000', '2560x1080', '1728x972', '3000x2000',\n",
       "       '1024x640', '3840x2400', '2304x1440', '1280x600', '1400x1050',\n",
       "       '1600x1200', '3201x1800', '1356x900', '1344x756', '1624x1080',\n",
       "       '1536x864', '1800x1125', '1920x1281', '2961x1442', '1366x1024',\n",
       "       '1344x840', '3360x1890', '1536x1152', '1200x675', '1480x720',\n",
       "       '2400x1600', '3200x2000', '1281x801', '960x640', '1776x1000',\n",
       "       '2048x1280', '2049x1152', '1138x640', '2160x1215', '2880x1440',\n",
       "       '0x0', '2520x1575', '5760x3240', '3843x2163', '1184x720',\n",
       "       '1440x810', '2076x1080', '1600x837', '1093x615', '1281x721',\n",
       "       '1152x648', '2392x1440', '2048x1080', '2735x1825', '1680x945',\n",
       "       '1805x1015', '5760x1080', '2816x1584', '4500x3000', '1684x947',\n",
       "       '1440x960', '1364x768', '3072x1728', '5040x3150', '7500x5000',\n",
       "       '768x576', '1768x992', '1658x946', '1200x720', '1239x697',\n",
       "       '1188x720', '1232x800', '1920x1280', '1264x924', '1400x900',\n",
       "       '3240x2160', '2961x1440', '1422x889', '1848x1155', '3360x1050',\n",
       "       '3840x1080', '2010x1080', '2160x1350', '1440x720', '1280x712',\n",
       "       '1512x945', '1296x774', '1368x768', '3520x1980', '800x600',\n",
       "       '1700x960', '2560x1800', '6400x3600', '2368x1440', '1824x1026',\n",
       "       '1912x1025', '600x450', '3840x1600', '1760x990', '2700x1800',\n",
       "       '1371x857', '1776x1080', '2552x1337', '3600x2250', '2560x1700',\n",
       "       '2816x1760', '1440x800', '1440x803', '1920x1018', '6016x3384',\n",
       "       '1280x620', '1281x720', '1720x1440', '1408x880', '640x360',\n",
       "       '1920x975', '976x600', '1062x630', '2800x1575', '6720x3780',\n",
       "       '1440x759', '1120x700', '1921x1081', '1280x1023', '1279x1023',\n",
       "       '1441x901', '1679x1049', '1680x1051', '2220x1081', '1920x1079',\n",
       "       '1919x1199', '1680x1049', '1365x768', '1919x1079', '1919x1200',\n",
       "       '1919x1080', '1366x767', '1584x990', '2880x1442', '1281x800',\n",
       "       '1229x691', '1600x1024', '1600x899', '1536x960', '1502x844',\n",
       "       '1920x1201', '1439x809', '1408x792', '1279x1024', '1599x900',\n",
       "       '1920x1081', '921x691', '3841x2161', '1921x1080', '480x320',\n",
       "       '1888x941', '2049x1536', '2160x1439', '1707x960', '1024x767',\n",
       "       '1365x767', '3001x2000', '3839x2160', '1916x901', '3838x2158',\n",
       "       '1599x899', '3199x1800', '1511x944', '2737x1825', '2736x1823',\n",
       "       '2735x1823', '2559x1439', '2400x1500', '2882x1442', '1729x973',\n",
       "       '1727x971', '1023x767', '1918x1080', '1439x900', '4499x2999',\n",
       "       '1280x740', '2999x2000', '1024x552', '1440x899', '2255x1503',\n",
       "       '1025x768', '1280x732', '3839x2159', '3840x2162', '3696x2310',\n",
       "       '2159x1439', '2256x1504', '1439x899', '2159x1440', '1359x768',\n",
       "       '1092x614', '2048x1278', '2591x1619', '4200x2625', '2710x1440',\n",
       "       '1272x960', '1023x768', '3838x2160', '2100x1312', '1360x767',\n",
       "       '1024x819', '1502x845', '2561x1442', '2559x1440', '2160x1081',\n",
       "       '1920x1279', '2160x1080', '1596x710', '1496x844', '1280x900'],\n",
       "      dtype=object)"
      ]
     },
     "execution_count": 97,
     "metadata": {},
     "output_type": "execute_result"
    }
   ],
   "source": [
    "oli['id_33'].unique()"
   ]
  },
  {
   "cell_type": "markdown",
   "metadata": {},
   "source": [
    "Create data transformation pipeline"
   ]
  },
  {
   "cell_type": "code",
   "execution_count": 98,
   "metadata": {
    "collapsed": false,
    "pycharm": {
     "name": "#%%\n"
    }
   },
   "outputs": [
    {
     "data": {
      "text/plain": [
       "0         hi\n",
       "1         hi\n",
       "2         hi\n",
       "3         hi\n",
       "4         hi\n",
       "          ..\n",
       "590535    hi\n",
       "590536    hi\n",
       "590537    hi\n",
       "590538    hi\n",
       "590539    hi\n",
       "Name: DeviceInfo, Length: 590540, dtype: object"
      ]
     },
     "execution_count": 98,
     "metadata": {},
     "output_type": "execute_result"
    }
   ],
   "source": [
    "X = oli.drop('isFraud', axis=1)\n",
    "\n",
    "X_ = X.copy()\n",
    "\n",
    "temp = X_['DeviceInfo'].copy()\n",
    "\n",
    "valid_types = ['Windows', 'iOS Device', 'MacOS', 'Trident/7.0']\n",
    "\n",
    "temp[~(temp.isin(valid_types))] = 'hi'\n",
    "\n",
    "temp"
   ]
  },
  {
   "cell_type": "code",
   "execution_count": 99,
   "metadata": {
    "collapsed": false,
    "pycharm": {
     "name": "#%%\n"
    }
   },
   "outputs": [
    {
     "data": {
      "text/html": [
       "<div>\n",
       "<style scoped>\n",
       "    .dataframe tbody tr th:only-of-type {\n",
       "        vertical-align: middle;\n",
       "    }\n",
       "\n",
       "    .dataframe tbody tr th {\n",
       "        vertical-align: top;\n",
       "    }\n",
       "\n",
       "    .dataframe thead th {\n",
       "        text-align: right;\n",
       "    }\n",
       "</style>\n",
       "<table border=\"1\" class=\"dataframe\">\n",
       "  <thead>\n",
       "    <tr style=\"text-align: right;\">\n",
       "      <th></th>\n",
       "      <th>TransactionID</th>\n",
       "      <th>id_17</th>\n",
       "      <th>id_35</th>\n",
       "      <th>TransactionDT</th>\n",
       "      <th>card3</th>\n",
       "      <th>id_15</th>\n",
       "      <th>id_16</th>\n",
       "      <th>id_28</th>\n",
       "      <th>id_29</th>\n",
       "      <th>id_30</th>\n",
       "      <th>id_33</th>\n",
       "      <th>DeviceInfo</th>\n",
       "      <th>ProductCD</th>\n",
       "      <th>P_emaildomain</th>\n",
       "    </tr>\n",
       "  </thead>\n",
       "  <tbody>\n",
       "    <tr>\n",
       "      <th>0</th>\n",
       "      <td>2987000</td>\n",
       "      <td>NaN</td>\n",
       "      <td>NaN</td>\n",
       "      <td>86400</td>\n",
       "      <td>150.0</td>\n",
       "      <td>NaN</td>\n",
       "      <td>NaN</td>\n",
       "      <td>NaN</td>\n",
       "      <td>NaN</td>\n",
       "      <td>NaN</td>\n",
       "      <td>NaN</td>\n",
       "      <td>other</td>\n",
       "      <td>W</td>\n",
       "      <td>NaN</td>\n",
       "    </tr>\n",
       "    <tr>\n",
       "      <th>1</th>\n",
       "      <td>2987001</td>\n",
       "      <td>NaN</td>\n",
       "      <td>NaN</td>\n",
       "      <td>86401</td>\n",
       "      <td>150.0</td>\n",
       "      <td>NaN</td>\n",
       "      <td>NaN</td>\n",
       "      <td>NaN</td>\n",
       "      <td>NaN</td>\n",
       "      <td>NaN</td>\n",
       "      <td>NaN</td>\n",
       "      <td>other</td>\n",
       "      <td>W</td>\n",
       "      <td>gmail.com</td>\n",
       "    </tr>\n",
       "    <tr>\n",
       "      <th>2</th>\n",
       "      <td>2987002</td>\n",
       "      <td>NaN</td>\n",
       "      <td>NaN</td>\n",
       "      <td>86469</td>\n",
       "      <td>150.0</td>\n",
       "      <td>NaN</td>\n",
       "      <td>NaN</td>\n",
       "      <td>NaN</td>\n",
       "      <td>NaN</td>\n",
       "      <td>NaN</td>\n",
       "      <td>NaN</td>\n",
       "      <td>other</td>\n",
       "      <td>W</td>\n",
       "      <td>outlook.com</td>\n",
       "    </tr>\n",
       "    <tr>\n",
       "      <th>3</th>\n",
       "      <td>2987003</td>\n",
       "      <td>NaN</td>\n",
       "      <td>NaN</td>\n",
       "      <td>86499</td>\n",
       "      <td>150.0</td>\n",
       "      <td>NaN</td>\n",
       "      <td>NaN</td>\n",
       "      <td>NaN</td>\n",
       "      <td>NaN</td>\n",
       "      <td>NaN</td>\n",
       "      <td>NaN</td>\n",
       "      <td>other</td>\n",
       "      <td>W</td>\n",
       "      <td>yahoo.com</td>\n",
       "    </tr>\n",
       "    <tr>\n",
       "      <th>4</th>\n",
       "      <td>2987004</td>\n",
       "      <td>166.0</td>\n",
       "      <td>T</td>\n",
       "      <td>86506</td>\n",
       "      <td>150.0</td>\n",
       "      <td>New</td>\n",
       "      <td>NotFound</td>\n",
       "      <td>New</td>\n",
       "      <td>NotFound</td>\n",
       "      <td>Android 7.0</td>\n",
       "      <td>2220x1080</td>\n",
       "      <td>other</td>\n",
       "      <td>H</td>\n",
       "      <td>gmail.com</td>\n",
       "    </tr>\n",
       "  </tbody>\n",
       "</table>\n",
       "</div>"
      ],
      "text/plain": [
       "   TransactionID  id_17 id_35  TransactionDT  card3 id_15     id_16 id_28  \\\n",
       "0        2987000    NaN   NaN          86400  150.0   NaN       NaN   NaN   \n",
       "1        2987001    NaN   NaN          86401  150.0   NaN       NaN   NaN   \n",
       "2        2987002    NaN   NaN          86469  150.0   NaN       NaN   NaN   \n",
       "3        2987003    NaN   NaN          86499  150.0   NaN       NaN   NaN   \n",
       "4        2987004  166.0     T          86506  150.0   New  NotFound   New   \n",
       "\n",
       "      id_29        id_30      id_33 DeviceInfo ProductCD P_emaildomain  \n",
       "0       NaN          NaN        NaN      other         W           NaN  \n",
       "1       NaN          NaN        NaN      other         W     gmail.com  \n",
       "2       NaN          NaN        NaN      other         W   outlook.com  \n",
       "3       NaN          NaN        NaN      other         W     yahoo.com  \n",
       "4  NotFound  Android 7.0  2220x1080      other         H     gmail.com  "
      ]
     },
     "execution_count": 99,
     "metadata": {},
     "output_type": "execute_result"
    }
   ],
   "source": [
    "\n",
    "new_deviceInfo = temp[~(temp.isin(valid_types))] = 'other'\n",
    "\n",
    "X_['DeviceInfo'] = new_deviceInfo\n",
    "\n",
    "X_.head()"
   ]
  },
  {
   "cell_type": "code",
   "execution_count": 100,
   "metadata": {},
   "outputs": [],
   "source": [
    "from sklearn.pipeline import Pipeline\n",
    "from sklearn.impute import SimpleImputer\n",
    "from sklearn.preprocessing import OneHotEncoder\n",
    "from sklearn.base import BaseEstimator, TransformerMixin\n",
    "\n",
    "class select_and_order_cols(BaseEstimator, TransformerMixin):\n",
    "    def __init__(self):\n",
    "        return\n",
    "    \n",
    "    def fit(self, X, y=None):\n",
    "        return self\n",
    "        \n",
    "    def transform(self, X):\n",
    "        X_ = X.copy()\n",
    "        \n",
    "        cols_order = oli.columns.to_list()\n",
    "        cols_order.remove('isFraud')\n",
    "\n",
    "        temp = X_[cols_order]\n",
    "        \n",
    "        return temp\n",
    "\n",
    "\n",
    "class emailTransformer(BaseEstimator, TransformerMixin):\n",
    "    def __init__(self):\n",
    "        return\n",
    "    \n",
    "    def fit(self, X, y=None):\n",
    "        return self\n",
    "        \n",
    "    def transform(self, X):\n",
    "        X_ = X.copy()\n",
    "\n",
    "        temp = X_['P_emaildomain'].copy()\n",
    "\n",
    "        valid_emails = ['gmail.com', 'hotmail.com', 'anonymous.com', 'yahoo.com']\n",
    "        \n",
    "        temp[~(temp.isin(valid_emails))] = 'other'\n",
    "        \n",
    "        X_['P_emaildomain'] = temp\n",
    "        \n",
    "        return X_\n",
    "        \n",
    "specific = ['id_30','id_33','DeviceInfo']\n",
    "\n",
    "class id_30_transformer(BaseEstimator, TransformerMixin):\n",
    "    def __init__(self):\n",
    "        return\n",
    "    \n",
    "    def fit(self, X, y=None):\n",
    "        return\n",
    "    \n",
    "    def transform(self, X):\n",
    "        X_ = X.copy()\n",
    "\n",
    "        temp = X_['id_30'].copy()\n",
    "\n",
    "        valid_types = ['Windows 10', 'Windows 7', 'iOS 11.2.1', \n",
    "                       'iOS 11.1.2', 'Android 7.0', 'Mac OS X 10_12_6', 'Mac OS X 10_11_6']\n",
    "        \n",
    "        temp[~(temp.isin(valid_types))] = 'other'\n",
    "        \n",
    "        X_['id_30'] = temp\n",
    "        \n",
    "        return X_\n",
    "        \n",
    "    \n",
    "class id_33_transformer(BaseEstimator, TransformerMixin):\n",
    "    def __init__(self):\n",
    "        return\n",
    "\n",
    "    def fit(self, X, y=None):\n",
    "        return\n",
    "    \n",
    "    def transform(self, X):\n",
    "\n",
    "        X_ = X.copy()\n",
    "\n",
    "        temp = X_['id_33'].copy()\n",
    "\n",
    "        valid_types = ['1920x1080', '1366x768', '1334x750', '2208x1242', '1440x900',\n",
    "                       '1600x900', '2048x1536', '1280x800', '2560x1600', '2560x1440',\n",
    "                       '2880x1800', '1280x1024', '1680x1050', '1136x640']\n",
    "\n",
    "        \n",
    "        temp[~(temp.isin(valid_types))] = 'other'\n",
    "        \n",
    "        X_['id_33'] = temp\n",
    "        \n",
    "        return X_\n",
    "        \n",
    "        \n",
    "class DeviceInfo_transformer(BaseEstimator, TransformerMixin):\n",
    "    def __init__(self):\n",
    "        return\n",
    "    \n",
    "    \n",
    "    def fit(self, X, y=None):\n",
    "        return\n",
    "    \n",
    "    def transform(self, X):\n",
    "\n",
    "        X_ = X.copy()\n",
    "\n",
    "        temp = X_['DeviceInfo'].copy()\n",
    "        \n",
    "        valid_types = ['Windows', 'iOS Device', 'MacOS', 'Trident/7.0']\n",
    "        \n",
    "        temp[~(temp.isin(valid_types))] = 'other'\n",
    "        \n",
    "        X_['DeviceInfo'] = temp\n",
    "        \n",
    "        return X_"
   ]
  },
  {
   "cell_type": "code",
   "execution_count": 101,
   "metadata": {},
   "outputs": [],
   "source": [
    "num_pipeline = Pipeline([\n",
    "    ('imputer', SimpleImputer(fill_value=-9999))\n",
    "])"
   ]
  },
  {
   "cell_type": "code",
   "execution_count": 102,
   "metadata": {},
   "outputs": [],
   "source": [
    "cat_pipeline = Pipeline([\n",
    "    #('imp', SimpleImputer(strategy='most_frequent')),\n",
    "    ('onehot', OneHotEncoder(handle_unknown='ignore'))\n",
    "])"
   ]
  },
  {
   "cell_type": "code",
   "execution_count": 103,
   "metadata": {
    "collapsed": false,
    "pycharm": {
     "name": "#%%\n"
    }
   },
   "outputs": [],
   "source": [
    "from sklearn.compose import ColumnTransformer\n",
    "\n",
    "num_attribs = ['id_17', 'TransactionDT', 'card3']\n",
    "cat_attribs = ['id_15', 'id_35', 'id_16', 'id_28', 'id_29', 'id_30', 'id_33', 'DeviceInfo', 'ProductCD', 'P_emaildomain']\n",
    "\n",
    "first_pipeline = Pipeline([\n",
    "    ('email', emailTransformer()),\n",
    "    ('id_30', id_30_transformer()),\n",
    "    ('id_33', id_33_transformer()),\n",
    "    ('devinfo', DeviceInfo_transformer()),\n",
    "])\n",
    "\n",
    "final_pipeline = ColumnTransformer([\n",
    "    ('num', num_pipeline, num_attribs),\n",
    "    ('cat', cat_pipeline, cat_attribs)\n",
    "])\n"
   ]
  },
  {
   "cell_type": "markdown",
   "metadata": {},
   "source": [
    "Import in randomforest"
   ]
  },
  {
   "cell_type": "code",
   "execution_count": 104,
   "metadata": {},
   "outputs": [],
   "source": [
    "from sklearn.ensemble import RandomForestClassifier\n",
    "\n",
    "forest = RandomForestClassifier(n_estimators=20, max_depth=None, bootstrap=False, max_features=8)"
   ]
  },
  {
   "cell_type": "code",
   "execution_count": 107,
   "metadata": {},
   "outputs": [],
   "source": [
    "train_t = pd.read_csv('Data/initial/train_transaction.csv')\n",
    "train_i = pd.read_csv('Data/initial/train_identity.csv')\n",
    "\n",
    "cols_to_use = train_i.columns.difference(train_t.columns).to_list()\n",
    "\n",
    "cols_to_use.append('TransactionID')\n",
    "\n",
    "full_train = train_t.merge(train_i[cols_to_use], on='TransactionID', how='left')\n",
    "\n",
    "cols = oli.columns.to_list()\n",
    "\n",
    "train = full_train[cols]"
   ]
  },
  {
   "cell_type": "code",
   "execution_count": 108,
   "metadata": {},
   "outputs": [],
   "source": [
    "y = train['isFraud']\n",
    "\n",
    "X = train.drop('isFraud', axis=1)\n",
    "\n",
    "X = first_pipeline.transform(X)\n",
    "\n",
    "X = final_pipeline.fit_transform(X, y)"
   ]
  },
  {
   "cell_type": "code",
   "execution_count": 109,
   "metadata": {
    "pycharm": {
     "is_executing": true
    }
   },
   "outputs": [
    {
     "data": {
      "text/plain": [
       "RandomForestClassifier(bootstrap=False, max_features=8, n_estimators=20)"
      ]
     },
     "execution_count": 109,
     "metadata": {},
     "output_type": "execute_result"
    }
   ],
   "source": [
    "forest.fit(X,y)"
   ]
  },
  {
   "cell_type": "code",
   "execution_count": 110,
   "metadata": {},
   "outputs": [],
   "source": [
    "from joblib import dump, load\n",
    "\n",
    "#dump(forest, 'Data/model.joblib')\n",
    "#forest = load('Data/model.joblib')"
   ]
  },
  {
   "cell_type": "code",
   "execution_count": 111,
   "metadata": {
    "collapsed": false,
    "pycharm": {
     "is_executing": true,
     "name": "#%%\n"
    }
   },
   "outputs": [
    {
     "data": {
      "text/plain": [
       "array([[569877,      0],\n",
       "       [   108,  20555]])"
      ]
     },
     "execution_count": 111,
     "metadata": {},
     "output_type": "execute_result"
    }
   ],
   "source": [
    "from sklearn.metrics import confusion_matrix\n",
    "\n",
    "train_preds = forest.predict(X)\n",
    "\n",
    "mat = confusion_matrix(y, train_preds)\n",
    "\n",
    "mat"
   ]
  },
  {
   "cell_type": "code",
   "execution_count": 112,
   "metadata": {
    "collapsed": false,
    "pycharm": {
     "is_executing": true,
     "name": "#%%\n"
    }
   },
   "outputs": [
    {
     "data": {
      "text/plain": [
       "0.9998171165374065"
      ]
     },
     "execution_count": 112,
     "metadata": {},
     "output_type": "execute_result"
    }
   ],
   "source": [
    "forest.score(X,y)"
   ]
  },
  {
   "cell_type": "code",
   "execution_count": 113,
   "metadata": {
    "collapsed": false,
    "pycharm": {
     "is_executing": true,
     "name": "#%%\n"
    }
   },
   "outputs": [
    {
     "data": {
      "text/plain": [
       "0.9973797855305934"
      ]
     },
     "execution_count": 113,
     "metadata": {},
     "output_type": "execute_result"
    }
   ],
   "source": [
    "from sklearn.metrics import f1_score\n",
    "\n",
    "preds = forest.predict(X)\n",
    "\n",
    "f1 = f1_score(y, preds)\n",
    "\n",
    "f1"
   ]
  },
  {
   "cell_type": "code",
   "execution_count": 114,
   "metadata": {
    "pycharm": {
     "is_executing": true
    }
   },
   "outputs": [],
   "source": [
    "from sklearn.model_selection import cross_val_score\n",
    "\n",
    "#scores = cross_val_score(forest, X, y, cv=5, scoring='f1')\n",
    "\n",
    "#np.mean(scores)"
   ]
  },
  {
   "cell_type": "code",
   "execution_count": 115,
   "metadata": {
    "collapsed": false,
    "pycharm": {
     "is_executing": true,
     "name": "#%%\n"
    }
   },
   "outputs": [],
   "source": [
    "test_identity = pd.read_csv('Data/initial/test_identity.csv')\n",
    "test_transaction = pd.read_csv('Data/initial/test_transaction.csv')"
   ]
  },
  {
   "cell_type": "code",
   "execution_count": 116,
   "metadata": {
    "collapsed": false,
    "pycharm": {
     "is_executing": true,
     "name": "#%%\n"
    }
   },
   "outputs": [],
   "source": [
    "cols_to_use = test_identity.columns.difference(test_transaction.columns).to_list()\n",
    "\n",
    "cols_to_use.append('TransactionID')"
   ]
  },
  {
   "cell_type": "code",
   "execution_count": 117,
   "metadata": {
    "collapsed": false,
    "pycharm": {
     "is_executing": true,
     "name": "#%%\n"
    }
   },
   "outputs": [],
   "source": [
    "full_test = test_transaction.merge(test_identity[cols_to_use], on='TransactionID', how='left')"
   ]
  },
  {
   "cell_type": "code",
   "execution_count": 118,
   "metadata": {
    "collapsed": false,
    "pycharm": {
     "is_executing": true,
     "name": "#%%\n"
    }
   },
   "outputs": [
    {
     "data": {
      "text/html": [
       "<div>\n",
       "<style scoped>\n",
       "    .dataframe tbody tr th:only-of-type {\n",
       "        vertical-align: middle;\n",
       "    }\n",
       "\n",
       "    .dataframe tbody tr th {\n",
       "        vertical-align: top;\n",
       "    }\n",
       "\n",
       "    .dataframe thead th {\n",
       "        text-align: right;\n",
       "    }\n",
       "</style>\n",
       "<table border=\"1\" class=\"dataframe\">\n",
       "  <thead>\n",
       "    <tr style=\"text-align: right;\">\n",
       "      <th></th>\n",
       "      <th>TransactionID</th>\n",
       "      <th>TransactionDT</th>\n",
       "      <th>TransactionAmt</th>\n",
       "      <th>ProductCD</th>\n",
       "      <th>card1</th>\n",
       "      <th>card2</th>\n",
       "      <th>card3</th>\n",
       "      <th>card4</th>\n",
       "      <th>card5</th>\n",
       "      <th>card6</th>\n",
       "      <th>...</th>\n",
       "      <th>id_29</th>\n",
       "      <th>id_30</th>\n",
       "      <th>id_31</th>\n",
       "      <th>id_32</th>\n",
       "      <th>id_33</th>\n",
       "      <th>id_34</th>\n",
       "      <th>id_35</th>\n",
       "      <th>id_36</th>\n",
       "      <th>id_37</th>\n",
       "      <th>id_38</th>\n",
       "    </tr>\n",
       "  </thead>\n",
       "  <tbody>\n",
       "    <tr>\n",
       "      <th>0</th>\n",
       "      <td>3663549</td>\n",
       "      <td>18403224</td>\n",
       "      <td>31.95</td>\n",
       "      <td>W</td>\n",
       "      <td>10409</td>\n",
       "      <td>111.0</td>\n",
       "      <td>150.0</td>\n",
       "      <td>visa</td>\n",
       "      <td>226.0</td>\n",
       "      <td>debit</td>\n",
       "      <td>...</td>\n",
       "      <td>NaN</td>\n",
       "      <td>NaN</td>\n",
       "      <td>NaN</td>\n",
       "      <td>NaN</td>\n",
       "      <td>NaN</td>\n",
       "      <td>NaN</td>\n",
       "      <td>NaN</td>\n",
       "      <td>NaN</td>\n",
       "      <td>NaN</td>\n",
       "      <td>NaN</td>\n",
       "    </tr>\n",
       "    <tr>\n",
       "      <th>1</th>\n",
       "      <td>3663550</td>\n",
       "      <td>18403263</td>\n",
       "      <td>49.00</td>\n",
       "      <td>W</td>\n",
       "      <td>4272</td>\n",
       "      <td>111.0</td>\n",
       "      <td>150.0</td>\n",
       "      <td>visa</td>\n",
       "      <td>226.0</td>\n",
       "      <td>debit</td>\n",
       "      <td>...</td>\n",
       "      <td>NaN</td>\n",
       "      <td>NaN</td>\n",
       "      <td>NaN</td>\n",
       "      <td>NaN</td>\n",
       "      <td>NaN</td>\n",
       "      <td>NaN</td>\n",
       "      <td>NaN</td>\n",
       "      <td>NaN</td>\n",
       "      <td>NaN</td>\n",
       "      <td>NaN</td>\n",
       "    </tr>\n",
       "    <tr>\n",
       "      <th>2</th>\n",
       "      <td>3663551</td>\n",
       "      <td>18403310</td>\n",
       "      <td>171.00</td>\n",
       "      <td>W</td>\n",
       "      <td>4476</td>\n",
       "      <td>574.0</td>\n",
       "      <td>150.0</td>\n",
       "      <td>visa</td>\n",
       "      <td>226.0</td>\n",
       "      <td>debit</td>\n",
       "      <td>...</td>\n",
       "      <td>NaN</td>\n",
       "      <td>NaN</td>\n",
       "      <td>NaN</td>\n",
       "      <td>NaN</td>\n",
       "      <td>NaN</td>\n",
       "      <td>NaN</td>\n",
       "      <td>NaN</td>\n",
       "      <td>NaN</td>\n",
       "      <td>NaN</td>\n",
       "      <td>NaN</td>\n",
       "    </tr>\n",
       "    <tr>\n",
       "      <th>3</th>\n",
       "      <td>3663552</td>\n",
       "      <td>18403310</td>\n",
       "      <td>284.95</td>\n",
       "      <td>W</td>\n",
       "      <td>10989</td>\n",
       "      <td>360.0</td>\n",
       "      <td>150.0</td>\n",
       "      <td>visa</td>\n",
       "      <td>166.0</td>\n",
       "      <td>debit</td>\n",
       "      <td>...</td>\n",
       "      <td>NaN</td>\n",
       "      <td>NaN</td>\n",
       "      <td>NaN</td>\n",
       "      <td>NaN</td>\n",
       "      <td>NaN</td>\n",
       "      <td>NaN</td>\n",
       "      <td>NaN</td>\n",
       "      <td>NaN</td>\n",
       "      <td>NaN</td>\n",
       "      <td>NaN</td>\n",
       "    </tr>\n",
       "    <tr>\n",
       "      <th>4</th>\n",
       "      <td>3663553</td>\n",
       "      <td>18403317</td>\n",
       "      <td>67.95</td>\n",
       "      <td>W</td>\n",
       "      <td>18018</td>\n",
       "      <td>452.0</td>\n",
       "      <td>150.0</td>\n",
       "      <td>mastercard</td>\n",
       "      <td>117.0</td>\n",
       "      <td>debit</td>\n",
       "      <td>...</td>\n",
       "      <td>NaN</td>\n",
       "      <td>NaN</td>\n",
       "      <td>NaN</td>\n",
       "      <td>NaN</td>\n",
       "      <td>NaN</td>\n",
       "      <td>NaN</td>\n",
       "      <td>NaN</td>\n",
       "      <td>NaN</td>\n",
       "      <td>NaN</td>\n",
       "      <td>NaN</td>\n",
       "    </tr>\n",
       "  </tbody>\n",
       "</table>\n",
       "<p>5 rows × 433 columns</p>\n",
       "</div>"
      ],
      "text/plain": [
       "   TransactionID  TransactionDT  TransactionAmt ProductCD  card1  card2  \\\n",
       "0        3663549       18403224           31.95         W  10409  111.0   \n",
       "1        3663550       18403263           49.00         W   4272  111.0   \n",
       "2        3663551       18403310          171.00         W   4476  574.0   \n",
       "3        3663552       18403310          284.95         W  10989  360.0   \n",
       "4        3663553       18403317           67.95         W  18018  452.0   \n",
       "\n",
       "   card3       card4  card5  card6  ...  id_29  id_30  id_31  id_32 id_33  \\\n",
       "0  150.0        visa  226.0  debit  ...    NaN    NaN    NaN    NaN   NaN   \n",
       "1  150.0        visa  226.0  debit  ...    NaN    NaN    NaN    NaN   NaN   \n",
       "2  150.0        visa  226.0  debit  ...    NaN    NaN    NaN    NaN   NaN   \n",
       "3  150.0        visa  166.0  debit  ...    NaN    NaN    NaN    NaN   NaN   \n",
       "4  150.0  mastercard  117.0  debit  ...    NaN    NaN    NaN    NaN   NaN   \n",
       "\n",
       "  id_34  id_35  id_36  id_37  id_38  \n",
       "0   NaN    NaN    NaN    NaN    NaN  \n",
       "1   NaN    NaN    NaN    NaN    NaN  \n",
       "2   NaN    NaN    NaN    NaN    NaN  \n",
       "3   NaN    NaN    NaN    NaN    NaN  \n",
       "4   NaN    NaN    NaN    NaN    NaN  \n",
       "\n",
       "[5 rows x 433 columns]"
      ]
     },
     "execution_count": 118,
     "metadata": {},
     "output_type": "execute_result"
    }
   ],
   "source": [
    "full_test.head()"
   ]
  },
  {
   "cell_type": "markdown",
   "metadata": {},
   "source": [
    "Just select columns used in our training data"
   ]
  },
  {
   "cell_type": "code",
   "execution_count": 139,
   "metadata": {
    "pycharm": {
     "is_executing": true,
     "name": "#%%\n"
    }
   },
   "outputs": [
    {
     "name": "stdout",
     "output_type": "stream",
     "text": [
      "['TransactionID', 'id_17', 'id_35', 'TransactionDT', 'card3', 'id_15', 'id_16', 'id_28', 'id_29', 'id_30', 'id_33', 'DeviceInfo', 'ProductCD', 'P_emaildomain']\n",
      "['TransactionID', 'id_17', 'id_35', 'TransactionDT', 'card3', 'id_15', 'id_16', 'id_28', 'id_29', 'id_30', 'id_33', 'DeviceInfo', 'ProductCD', 'P_emaildomain']\n"
     ]
    },
    {
     "ename": "ValueError",
     "evalue": "X has 56 features, but RandomForestClassifier is expecting 57 features as input.",
     "output_type": "error",
     "traceback": [
      "\u001B[0;31m---------------------------------------------------------------------------\u001B[0m",
      "\u001B[0;31mValueError\u001B[0m                                Traceback (most recent call last)",
      "\u001B[1;32m/Users/oli/Uni-Stuff/2022/Sem 2/Data Mining/Projects/Project 2/model.ipynb Cell 30'\u001B[0m in \u001B[0;36m<module>\u001B[0;34m\u001B[0m\n\u001B[1;32m      <a href='vscode-notebook-cell:/Users/oli/Uni-Stuff/2022/Sem%202/Data%20Mining/Projects/Project%202/model.ipynb#ch0000027?line=8'>9</a>\u001B[0m \u001B[39mprint\u001B[39m([\u001B[39m'\u001B[39m\u001B[39mTransactionID\u001B[39m\u001B[39m'\u001B[39m, \u001B[39m'\u001B[39m\u001B[39mid_17\u001B[39m\u001B[39m'\u001B[39m, \u001B[39m'\u001B[39m\u001B[39mid_35\u001B[39m\u001B[39m'\u001B[39m, \u001B[39m'\u001B[39m\u001B[39mTransactionDT\u001B[39m\u001B[39m'\u001B[39m, \u001B[39m'\u001B[39m\u001B[39mcard3\u001B[39m\u001B[39m'\u001B[39m, \u001B[39m'\u001B[39m\u001B[39mid_15\u001B[39m\u001B[39m'\u001B[39m, \u001B[39m'\u001B[39m\u001B[39mid_16\u001B[39m\u001B[39m'\u001B[39m, \u001B[39m'\u001B[39m\u001B[39mid_28\u001B[39m\u001B[39m'\u001B[39m, \u001B[39m'\u001B[39m\u001B[39mid_29\u001B[39m\u001B[39m'\u001B[39m, \u001B[39m'\u001B[39m\u001B[39mid_30\u001B[39m\u001B[39m'\u001B[39m, \u001B[39m'\u001B[39m\u001B[39mid_33\u001B[39m\u001B[39m'\u001B[39m, \u001B[39m'\u001B[39m\u001B[39mDeviceInfo\u001B[39m\u001B[39m'\u001B[39m, \u001B[39m'\u001B[39m\u001B[39mProductCD\u001B[39m\u001B[39m'\u001B[39m, \u001B[39m'\u001B[39m\u001B[39mP_emaildomain\u001B[39m\u001B[39m'\u001B[39m])\n\u001B[1;32m     <a href='vscode-notebook-cell:/Users/oli/Uni-Stuff/2022/Sem%202/Data%20Mining/Projects/Project%202/model.ipynb#ch0000027?line=10'>11</a>\u001B[0m X_test \u001B[39m=\u001B[39m final_pipeline\u001B[39m.\u001B[39mtransform(X_test)\n\u001B[0;32m---> <a href='vscode-notebook-cell:/Users/oli/Uni-Stuff/2022/Sem%202/Data%20Mining/Projects/Project%202/model.ipynb#ch0000027?line=12'>13</a>\u001B[0m y_preds \u001B[39m=\u001B[39m forest\u001B[39m.\u001B[39;49mpredict(X_test)\n",
      "File \u001B[0;32m/usr/local/lib/python3.9/site-packages/sklearn/ensemble/_forest.py:808\u001B[0m, in \u001B[0;36mForestClassifier.predict\u001B[0;34m(self, X)\u001B[0m\n\u001B[1;32m    <a href='file:///usr/local/lib/python3.9/site-packages/sklearn/ensemble/_forest.py?line=786'>787</a>\u001B[0m \u001B[39mdef\u001B[39;00m \u001B[39mpredict\u001B[39m(\u001B[39mself\u001B[39m, X):\n\u001B[1;32m    <a href='file:///usr/local/lib/python3.9/site-packages/sklearn/ensemble/_forest.py?line=787'>788</a>\u001B[0m     \u001B[39m\"\"\"\u001B[39;00m\n\u001B[1;32m    <a href='file:///usr/local/lib/python3.9/site-packages/sklearn/ensemble/_forest.py?line=788'>789</a>\u001B[0m \u001B[39m    Predict class for X.\u001B[39;00m\n\u001B[1;32m    <a href='file:///usr/local/lib/python3.9/site-packages/sklearn/ensemble/_forest.py?line=789'>790</a>\u001B[0m \n\u001B[0;32m   (...)\u001B[0m\n\u001B[1;32m    <a href='file:///usr/local/lib/python3.9/site-packages/sklearn/ensemble/_forest.py?line=805'>806</a>\u001B[0m \u001B[39m        The predicted classes.\u001B[39;00m\n\u001B[1;32m    <a href='file:///usr/local/lib/python3.9/site-packages/sklearn/ensemble/_forest.py?line=806'>807</a>\u001B[0m \u001B[39m    \"\"\"\u001B[39;00m\n\u001B[0;32m--> <a href='file:///usr/local/lib/python3.9/site-packages/sklearn/ensemble/_forest.py?line=807'>808</a>\u001B[0m     proba \u001B[39m=\u001B[39m \u001B[39mself\u001B[39;49m\u001B[39m.\u001B[39;49mpredict_proba(X)\n\u001B[1;32m    <a href='file:///usr/local/lib/python3.9/site-packages/sklearn/ensemble/_forest.py?line=809'>810</a>\u001B[0m     \u001B[39mif\u001B[39;00m \u001B[39mself\u001B[39m\u001B[39m.\u001B[39mn_outputs_ \u001B[39m==\u001B[39m \u001B[39m1\u001B[39m:\n\u001B[1;32m    <a href='file:///usr/local/lib/python3.9/site-packages/sklearn/ensemble/_forest.py?line=810'>811</a>\u001B[0m         \u001B[39mreturn\u001B[39;00m \u001B[39mself\u001B[39m\u001B[39m.\u001B[39mclasses_\u001B[39m.\u001B[39mtake(np\u001B[39m.\u001B[39margmax(proba, axis\u001B[39m=\u001B[39m\u001B[39m1\u001B[39m), axis\u001B[39m=\u001B[39m\u001B[39m0\u001B[39m)\n",
      "File \u001B[0;32m/usr/local/lib/python3.9/site-packages/sklearn/ensemble/_forest.py:850\u001B[0m, in \u001B[0;36mForestClassifier.predict_proba\u001B[0;34m(self, X)\u001B[0m\n\u001B[1;32m    <a href='file:///usr/local/lib/python3.9/site-packages/sklearn/ensemble/_forest.py?line=847'>848</a>\u001B[0m check_is_fitted(\u001B[39mself\u001B[39m)\n\u001B[1;32m    <a href='file:///usr/local/lib/python3.9/site-packages/sklearn/ensemble/_forest.py?line=848'>849</a>\u001B[0m \u001B[39m# Check data\u001B[39;00m\n\u001B[0;32m--> <a href='file:///usr/local/lib/python3.9/site-packages/sklearn/ensemble/_forest.py?line=849'>850</a>\u001B[0m X \u001B[39m=\u001B[39m \u001B[39mself\u001B[39;49m\u001B[39m.\u001B[39;49m_validate_X_predict(X)\n\u001B[1;32m    <a href='file:///usr/local/lib/python3.9/site-packages/sklearn/ensemble/_forest.py?line=851'>852</a>\u001B[0m \u001B[39m# Assign chunk of trees to jobs\u001B[39;00m\n\u001B[1;32m    <a href='file:///usr/local/lib/python3.9/site-packages/sklearn/ensemble/_forest.py?line=852'>853</a>\u001B[0m n_jobs, _, _ \u001B[39m=\u001B[39m _partition_estimators(\u001B[39mself\u001B[39m\u001B[39m.\u001B[39mn_estimators, \u001B[39mself\u001B[39m\u001B[39m.\u001B[39mn_jobs)\n",
      "File \u001B[0;32m/usr/local/lib/python3.9/site-packages/sklearn/ensemble/_forest.py:579\u001B[0m, in \u001B[0;36mBaseForest._validate_X_predict\u001B[0;34m(self, X)\u001B[0m\n\u001B[1;32m    <a href='file:///usr/local/lib/python3.9/site-packages/sklearn/ensemble/_forest.py?line=575'>576</a>\u001B[0m \u001B[39m\"\"\"\u001B[39;00m\n\u001B[1;32m    <a href='file:///usr/local/lib/python3.9/site-packages/sklearn/ensemble/_forest.py?line=576'>577</a>\u001B[0m \u001B[39mValidate X whenever one tries to predict, apply, predict_proba.\"\"\"\u001B[39;00m\n\u001B[1;32m    <a href='file:///usr/local/lib/python3.9/site-packages/sklearn/ensemble/_forest.py?line=577'>578</a>\u001B[0m check_is_fitted(\u001B[39mself\u001B[39m)\n\u001B[0;32m--> <a href='file:///usr/local/lib/python3.9/site-packages/sklearn/ensemble/_forest.py?line=578'>579</a>\u001B[0m X \u001B[39m=\u001B[39m \u001B[39mself\u001B[39;49m\u001B[39m.\u001B[39;49m_validate_data(X, dtype\u001B[39m=\u001B[39;49mDTYPE, accept_sparse\u001B[39m=\u001B[39;49m\u001B[39m\"\u001B[39;49m\u001B[39mcsr\u001B[39;49m\u001B[39m\"\u001B[39;49m, reset\u001B[39m=\u001B[39;49m\u001B[39mFalse\u001B[39;49;00m)\n\u001B[1;32m    <a href='file:///usr/local/lib/python3.9/site-packages/sklearn/ensemble/_forest.py?line=579'>580</a>\u001B[0m \u001B[39mif\u001B[39;00m issparse(X) \u001B[39mand\u001B[39;00m (X\u001B[39m.\u001B[39mindices\u001B[39m.\u001B[39mdtype \u001B[39m!=\u001B[39m np\u001B[39m.\u001B[39mintc \u001B[39mor\u001B[39;00m X\u001B[39m.\u001B[39mindptr\u001B[39m.\u001B[39mdtype \u001B[39m!=\u001B[39m np\u001B[39m.\u001B[39mintc):\n\u001B[1;32m    <a href='file:///usr/local/lib/python3.9/site-packages/sklearn/ensemble/_forest.py?line=580'>581</a>\u001B[0m     \u001B[39mraise\u001B[39;00m \u001B[39mValueError\u001B[39;00m(\u001B[39m\"\u001B[39m\u001B[39mNo support for np.int64 index based sparse matrices\u001B[39m\u001B[39m\"\u001B[39m)\n",
      "File \u001B[0;32m/usr/local/lib/python3.9/site-packages/sklearn/base.py:585\u001B[0m, in \u001B[0;36mBaseEstimator._validate_data\u001B[0;34m(self, X, y, reset, validate_separately, **check_params)\u001B[0m\n\u001B[1;32m    <a href='file:///usr/local/lib/python3.9/site-packages/sklearn/base.py?line=581'>582</a>\u001B[0m     out \u001B[39m=\u001B[39m X, y\n\u001B[1;32m    <a href='file:///usr/local/lib/python3.9/site-packages/sklearn/base.py?line=583'>584</a>\u001B[0m \u001B[39mif\u001B[39;00m \u001B[39mnot\u001B[39;00m no_val_X \u001B[39mand\u001B[39;00m check_params\u001B[39m.\u001B[39mget(\u001B[39m\"\u001B[39m\u001B[39mensure_2d\u001B[39m\u001B[39m\"\u001B[39m, \u001B[39mTrue\u001B[39;00m):\n\u001B[0;32m--> <a href='file:///usr/local/lib/python3.9/site-packages/sklearn/base.py?line=584'>585</a>\u001B[0m     \u001B[39mself\u001B[39;49m\u001B[39m.\u001B[39;49m_check_n_features(X, reset\u001B[39m=\u001B[39;49mreset)\n\u001B[1;32m    <a href='file:///usr/local/lib/python3.9/site-packages/sklearn/base.py?line=586'>587</a>\u001B[0m \u001B[39mreturn\u001B[39;00m out\n",
      "File \u001B[0;32m/usr/local/lib/python3.9/site-packages/sklearn/base.py:400\u001B[0m, in \u001B[0;36mBaseEstimator._check_n_features\u001B[0;34m(self, X, reset)\u001B[0m\n\u001B[1;32m    <a href='file:///usr/local/lib/python3.9/site-packages/sklearn/base.py?line=396'>397</a>\u001B[0m     \u001B[39mreturn\u001B[39;00m\n\u001B[1;32m    <a href='file:///usr/local/lib/python3.9/site-packages/sklearn/base.py?line=398'>399</a>\u001B[0m \u001B[39mif\u001B[39;00m n_features \u001B[39m!=\u001B[39m \u001B[39mself\u001B[39m\u001B[39m.\u001B[39mn_features_in_:\n\u001B[0;32m--> <a href='file:///usr/local/lib/python3.9/site-packages/sklearn/base.py?line=399'>400</a>\u001B[0m     \u001B[39mraise\u001B[39;00m \u001B[39mValueError\u001B[39;00m(\n\u001B[1;32m    <a href='file:///usr/local/lib/python3.9/site-packages/sklearn/base.py?line=400'>401</a>\u001B[0m         \u001B[39mf\u001B[39m\u001B[39m\"\u001B[39m\u001B[39mX has \u001B[39m\u001B[39m{\u001B[39;00mn_features\u001B[39m}\u001B[39;00m\u001B[39m features, but \u001B[39m\u001B[39m{\u001B[39;00m\u001B[39mself\u001B[39m\u001B[39m.\u001B[39m\u001B[39m__class__\u001B[39m\u001B[39m.\u001B[39m\u001B[39m__name__\u001B[39m\u001B[39m}\u001B[39;00m\u001B[39m \u001B[39m\u001B[39m\"\u001B[39m\n\u001B[1;32m    <a href='file:///usr/local/lib/python3.9/site-packages/sklearn/base.py?line=401'>402</a>\u001B[0m         \u001B[39mf\u001B[39m\u001B[39m\"\u001B[39m\u001B[39mis expecting \u001B[39m\u001B[39m{\u001B[39;00m\u001B[39mself\u001B[39m\u001B[39m.\u001B[39mn_features_in_\u001B[39m}\u001B[39;00m\u001B[39m features as input.\u001B[39m\u001B[39m\"\u001B[39m\n\u001B[1;32m    <a href='file:///usr/local/lib/python3.9/site-packages/sklearn/base.py?line=402'>403</a>\u001B[0m     )\n",
      "\u001B[0;31mValueError\u001B[0m: X has 56 features, but RandomForestClassifier is expecting 57 features as input."
     ]
    }
   ],
   "source": [
    "cols = oli.columns.to_list()\n",
    "cols.remove('isFraud')\n",
    "\n",
    "test = full_test[cols]\n",
    "\n",
    "X_test = first_pipeline.transform(test)\n",
    "X_test = final_pipeline.transform(X_test)\n",
    "\n",
    "y_preds = forest.predict(X_test)"
   ]
  },
  {
   "cell_type": "code",
   "execution_count": 120,
   "metadata": {},
   "outputs": [
    {
     "data": {
      "text/plain": [
       "4358"
      ]
     },
     "execution_count": 120,
     "metadata": {},
     "output_type": "execute_result"
    }
   ],
   "source": [
    "sum(y_preds)"
   ]
  },
  {
   "cell_type": "code",
   "execution_count": 121,
   "metadata": {
    "collapsed": false,
    "pycharm": {
     "is_executing": true,
     "name": "#%%\n"
    }
   },
   "outputs": [],
   "source": [
    "Y_preds = pd.Series(y_preds, name = 'isFraud')"
   ]
  },
  {
   "cell_type": "code",
   "execution_count": 122,
   "metadata": {
    "collapsed": false,
    "pycharm": {
     "is_executing": true,
     "name": "#%%\n"
    }
   },
   "outputs": [],
   "source": [
    "output = pd.concat([full_test['TransactionID'], Y_preds], axis=1)"
   ]
  },
  {
   "cell_type": "code",
   "execution_count": 123,
   "metadata": {
    "collapsed": false,
    "pycharm": {
     "is_executing": true,
     "name": "#%%\n"
    }
   },
   "outputs": [
    {
     "data": {
      "text/html": [
       "<div>\n",
       "<style scoped>\n",
       "    .dataframe tbody tr th:only-of-type {\n",
       "        vertical-align: middle;\n",
       "    }\n",
       "\n",
       "    .dataframe tbody tr th {\n",
       "        vertical-align: top;\n",
       "    }\n",
       "\n",
       "    .dataframe thead th {\n",
       "        text-align: right;\n",
       "    }\n",
       "</style>\n",
       "<table border=\"1\" class=\"dataframe\">\n",
       "  <thead>\n",
       "    <tr style=\"text-align: right;\">\n",
       "      <th></th>\n",
       "      <th>TransactionID</th>\n",
       "      <th>isFraud</th>\n",
       "    </tr>\n",
       "  </thead>\n",
       "  <tbody>\n",
       "    <tr>\n",
       "      <th>0</th>\n",
       "      <td>3663549</td>\n",
       "      <td>0</td>\n",
       "    </tr>\n",
       "    <tr>\n",
       "      <th>1</th>\n",
       "      <td>3663550</td>\n",
       "      <td>0</td>\n",
       "    </tr>\n",
       "    <tr>\n",
       "      <th>2</th>\n",
       "      <td>3663551</td>\n",
       "      <td>0</td>\n",
       "    </tr>\n",
       "    <tr>\n",
       "      <th>3</th>\n",
       "      <td>3663552</td>\n",
       "      <td>0</td>\n",
       "    </tr>\n",
       "    <tr>\n",
       "      <th>4</th>\n",
       "      <td>3663553</td>\n",
       "      <td>0</td>\n",
       "    </tr>\n",
       "  </tbody>\n",
       "</table>\n",
       "</div>"
      ],
      "text/plain": [
       "   TransactionID  isFraud\n",
       "0        3663549        0\n",
       "1        3663550        0\n",
       "2        3663551        0\n",
       "3        3663552        0\n",
       "4        3663553        0"
      ]
     },
     "execution_count": 123,
     "metadata": {},
     "output_type": "execute_result"
    }
   ],
   "source": [
    "output.head()"
   ]
  },
  {
   "cell_type": "code",
   "execution_count": 124,
   "metadata": {
    "collapsed": false,
    "pycharm": {
     "is_executing": true,
     "name": "#%%\n"
    }
   },
   "outputs": [],
   "source": [
    "output.to_csv('Data/output.csv', index=False)"
   ]
  },
  {
   "cell_type": "code",
   "execution_count": 125,
   "metadata": {},
   "outputs": [
    {
     "data": {
      "text/plain": [
       "0.008600902719803589"
      ]
     },
     "execution_count": 125,
     "metadata": {},
     "output_type": "execute_result"
    }
   ],
   "source": [
    "np.sum(y_preds) / len(y_preds)"
   ]
  },
  {
   "cell_type": "code",
   "execution_count": 126,
   "metadata": {},
   "outputs": [
    {
     "data": {
      "text/plain": [
       "0.03499000914417313"
      ]
     },
     "execution_count": 126,
     "metadata": {},
     "output_type": "execute_result"
    }
   ],
   "source": [
    "np.sum(y) /len(y)"
   ]
  },
  {
   "cell_type": "code",
   "execution_count": 127,
   "metadata": {},
   "outputs": [],
   "source": [
    "L = len(oli)"
   ]
  },
  {
   "cell_type": "code",
   "execution_count": 128,
   "metadata": {},
   "outputs": [],
   "source": [
    "subset = oli[:int(L*0.1)].copy()\n",
    "\n",
    "sub_train = subset[:int(len(subset)*0.8)]\n",
    "sub_test = subset[int(len(subset)*0.8):]"
   ]
  },
  {
   "cell_type": "code",
   "execution_count": 129,
   "metadata": {},
   "outputs": [],
   "source": [
    "new_for = RandomForestClassifier(n_estimators=100, max_depth=10)"
   ]
  },
  {
   "cell_type": "code",
   "execution_count": 137,
   "metadata": {},
   "outputs": [
    {
     "name": "stdout",
     "output_type": "stream",
     "text": [
      "['TransactionID', 'id_17', 'id_35', 'TransactionDT', 'card3', 'id_15', 'id_16', 'id_28', 'id_29', 'id_30', 'id_33', 'DeviceInfo', 'ProductCD', 'P_emaildomain']\n"
     ]
    },
    {
     "data": {
      "text/plain": [
       "RandomForestClassifier(max_depth=10)"
      ]
     },
     "execution_count": 137,
     "metadata": {},
     "output_type": "execute_result"
    }
   ],
   "source": [
    "sub_y_train = sub_train['isFraud']\n",
    "\n",
    "sub_x_train = sub_train.drop('isFraud', axis=1)\n",
    "\n",
    "sub_x_train = first_pipeline.transform(sub_x_train)\n",
    "\n",
    "print(sub_x_train.columns.to_list())\n",
    "\n",
    "sub_x_train = final_pipeline.fit_transform(sub_x_train)\n",
    "\n",
    "new_for.fit(sub_x_train, sub_y_train)"
   ]
  },
  {
   "cell_type": "code",
   "execution_count": 135,
   "metadata": {},
   "outputs": [
    {
     "name": "stdout",
     "output_type": "stream",
     "text": [
      "['TransactionID', 'id_17', 'id_35', 'TransactionDT', 'card3', 'id_15', 'id_16', 'id_28', 'id_29', 'id_30', 'id_33', 'DeviceInfo', 'ProductCD', 'P_emaildomain']\n"
     ]
    }
   ],
   "source": [
    "sub_y_test = sub_test['isFraud']\n",
    "\n",
    "sub_x_test = sub_test.drop('isFraud', axis=1)\n",
    "\n",
    "sub_x_test = first_pipeline.transform(sub_x_test)\n",
    "\n",
    "print(sub_x_test.columns.to_list())\n",
    "\n",
    "sub_x_test = final_pipeline.transform(sub_x_test)\n",
    "\n",
    "sub_y_preds = new_for.predict(sub_x_test)"
   ]
  },
  {
   "cell_type": "code",
   "execution_count": 132,
   "metadata": {},
   "outputs": [
    {
     "data": {
      "text/plain": [
       "array([[11485,     1],\n",
       "       [  325,     0]])"
      ]
     },
     "execution_count": 132,
     "metadata": {},
     "output_type": "execute_result"
    }
   ],
   "source": [
    "mat = confusion_matrix(sub_y_test, sub_y_preds)\n",
    "\n",
    "mat"
   ]
  },
  {
   "cell_type": "code",
   "execution_count": 133,
   "metadata": {},
   "outputs": [
    {
     "data": {
      "text/plain": [
       "0.0"
      ]
     },
     "execution_count": 133,
     "metadata": {},
     "output_type": "execute_result"
    }
   ],
   "source": [
    "sub_f = f1_score(sub_y_test, sub_y_preds)\n",
    "\n",
    "sub_f"
   ]
  },
  {
   "cell_type": "code",
   "execution_count": 134,
   "metadata": {},
   "outputs": [
    {
     "name": "stdout",
     "output_type": "stream",
     "text": [
      "Max depth:  3\n",
      "\n",
      "[[11263   223]\n",
      " [  247    78]]\n",
      "\n",
      "0.24920127795527156\n",
      "\n",
      "0.755257370176402\n",
      "-------------------------------------\n",
      "Max depth:  4\n",
      "\n",
      "[[11266   220]\n",
      " [  246    79]]\n",
      "\n",
      "0.2532051282051282\n",
      "\n",
      "0.7271302856989781\n",
      "-------------------------------------\n",
      "Max depth:  5\n",
      "\n",
      "[[11265   221]\n",
      " [  247    78]]\n",
      "\n",
      "0.24999999999999994\n",
      "\n",
      "0.7522162097001032\n",
      "-------------------------------------\n",
      "Max depth:  6\n",
      "\n",
      "[[11262   224]\n",
      " [  247    78]]\n",
      "\n",
      "0.24880382775119614\n",
      "\n",
      "0.7304689320778474\n",
      "-------------------------------------\n",
      "Max depth:  7\n",
      "\n",
      "[[11261   225]\n",
      " [  247    78]]\n",
      "\n",
      "0.2484076433121019\n",
      "\n",
      "0.7400368341392196\n",
      "-------------------------------------\n",
      "Max depth:  8\n",
      "\n",
      "[[11262   224]\n",
      " [  247    78]]\n",
      "\n",
      "0.24880382775119614\n",
      "\n",
      "0.7161936270242033\n",
      "-------------------------------------\n",
      "Max depth:  9\n",
      "\n",
      "[[11257   229]\n",
      " [  247    78]]\n",
      "\n",
      "0.24683544303797467\n",
      "\n",
      "0.7259280193948485\n",
      "-------------------------------------\n",
      "Max depth:  10\n",
      "\n",
      "[[11262   224]\n",
      " [  247    78]]\n",
      "\n",
      "0.24880382775119614\n",
      "\n",
      "0.7310953803292302\n",
      "-------------------------------------\n",
      "Max depth:  11\n",
      "\n",
      "[[11261   225]\n",
      " [  247    78]]\n",
      "\n",
      "0.2484076433121019\n",
      "\n",
      "0.7444803707523541\n",
      "-------------------------------------\n",
      "Max depth:  12\n",
      "\n",
      "[[11261   225]\n",
      " [  247    78]]\n",
      "\n",
      "0.2484076433121019\n",
      "\n",
      "0.731270442947267\n",
      "-------------------------------------\n",
      "Max depth:  13\n",
      "\n",
      "[[11261   225]\n",
      " [  247    78]]\n",
      "\n",
      "0.2484076433121019\n",
      "\n",
      "0.7385757912642816\n",
      "-------------------------------------\n",
      "Max depth:  14\n",
      "\n",
      "[[11262   224]\n",
      " [  247    78]]\n",
      "\n",
      "0.24880382775119614\n",
      "\n",
      "0.7392246078838451\n",
      "-------------------------------------\n",
      "Max depth:  15\n",
      "\n",
      "[[11261   225]\n",
      " [  247    78]]\n",
      "\n",
      "0.2484076433121019\n",
      "\n",
      "0.740984476084598\n",
      "-------------------------------------\n",
      "Max depth:  16\n",
      "\n",
      "[[11262   224]\n",
      " [  247    78]]\n",
      "\n",
      "0.24880382775119614\n",
      "\n",
      "0.7362043424101582\n",
      "-------------------------------------\n",
      "Max depth:  17\n",
      "\n",
      "[[11262   224]\n",
      " [  247    78]]\n",
      "\n",
      "0.24880382775119614\n",
      "\n",
      "0.725327555954406\n",
      "-------------------------------------\n",
      "Max depth:  18\n",
      "\n",
      "[[11259   227]\n",
      " [  247    78]]\n",
      "\n",
      "0.2476190476190476\n",
      "\n",
      "0.7353818025958021\n",
      "-------------------------------------\n",
      "Max depth:  19\n",
      "\n",
      "[[11267   219]\n",
      " [  248    77]]\n",
      "\n",
      "0.24798711755233493\n",
      "\n",
      "0.7545620755702593\n",
      "-------------------------------------\n",
      "Max depth:  20\n",
      "\n",
      "[[11258   228]\n",
      " [  248    77]]\n",
      "\n",
      "0.24444444444444444\n",
      "\n",
      "0.7472999906240373\n",
      "-------------------------------------\n",
      "Max depth:  21\n",
      "\n",
      "[[11265   221]\n",
      " [  247    78]]\n",
      "\n",
      "0.24999999999999994\n",
      "\n",
      "0.7601549712693714\n",
      "-------------------------------------\n",
      "Max depth:  22\n",
      "\n",
      "[[11265   221]\n",
      " [  246    79]]\n",
      "\n",
      "0.25279999999999997\n",
      "\n",
      "0.7512210182295502\n",
      "-------------------------------------\n",
      "Max depth:  23\n",
      "\n",
      "[[11262   224]\n",
      " [  248    77]]\n",
      "\n",
      "0.24600638977635786\n",
      "\n",
      "0.7465835331306339\n",
      "-------------------------------------\n"
     ]
    },
    {
     "ename": "KeyboardInterrupt",
     "evalue": "",
     "output_type": "error",
     "traceback": [
      "\u001B[0;31m---------------------------------------------------------------------------\u001B[0m",
      "\u001B[0;31mKeyboardInterrupt\u001B[0m                         Traceback (most recent call last)",
      "\u001B[1;32m/Users/oli/Uni-Stuff/2022/Sem 2/Data Mining/Projects/Project 2/model.ipynb Cell 45'\u001B[0m in \u001B[0;36m<module>\u001B[0;34m\u001B[0m\n\u001B[1;32m      <a href='vscode-notebook-cell:/Users/oli/Uni-Stuff/2022/Sem%202/Data%20Mining/Projects/Project%202/model.ipynb#ch0000044?line=2'>3</a>\u001B[0m \u001B[39mfor\u001B[39;00m i \u001B[39min\u001B[39;00m \u001B[39mrange\u001B[39m(\u001B[39m3\u001B[39m, \u001B[39m30\u001B[39m):\n\u001B[1;32m      <a href='vscode-notebook-cell:/Users/oli/Uni-Stuff/2022/Sem%202/Data%20Mining/Projects/Project%202/model.ipynb#ch0000044?line=3'>4</a>\u001B[0m     clf \u001B[39m=\u001B[39m RandomForestClassifier(criterion\u001B[39m=\u001B[39m\u001B[39m'\u001B[39m\u001B[39mentropy\u001B[39m\u001B[39m'\u001B[39m, max_depth\u001B[39m=\u001B[39m\u001B[39m18\u001B[39m, bootstrap\u001B[39m=\u001B[39m\u001B[39mFalse\u001B[39;00m, max_features\u001B[39m=\u001B[39mi)\n\u001B[0;32m----> <a href='vscode-notebook-cell:/Users/oli/Uni-Stuff/2022/Sem%202/Data%20Mining/Projects/Project%202/model.ipynb#ch0000044?line=5'>6</a>\u001B[0m     clf\u001B[39m.\u001B[39;49mfit(sub_x_train, sub_y_train)\n\u001B[1;32m      <a href='vscode-notebook-cell:/Users/oli/Uni-Stuff/2022/Sem%202/Data%20Mining/Projects/Project%202/model.ipynb#ch0000044?line=7'>8</a>\u001B[0m     p \u001B[39m=\u001B[39m clf\u001B[39m.\u001B[39mpredict(sub_x_test)\n\u001B[1;32m     <a href='vscode-notebook-cell:/Users/oli/Uni-Stuff/2022/Sem%202/Data%20Mining/Projects/Project%202/model.ipynb#ch0000044?line=9'>10</a>\u001B[0m     \u001B[39mprint\u001B[39m(\u001B[39m\"\u001B[39m\u001B[39mMax depth: \u001B[39m\u001B[39m\"\u001B[39m, i)\n",
      "File \u001B[0;32m/usr/local/lib/python3.9/site-packages/sklearn/ensemble/_forest.py:450\u001B[0m, in \u001B[0;36mBaseForest.fit\u001B[0;34m(self, X, y, sample_weight)\u001B[0m\n\u001B[1;32m    <a href='file:///usr/local/lib/python3.9/site-packages/sklearn/ensemble/_forest.py?line=438'>439</a>\u001B[0m trees \u001B[39m=\u001B[39m [\n\u001B[1;32m    <a href='file:///usr/local/lib/python3.9/site-packages/sklearn/ensemble/_forest.py?line=439'>440</a>\u001B[0m     \u001B[39mself\u001B[39m\u001B[39m.\u001B[39m_make_estimator(append\u001B[39m=\u001B[39m\u001B[39mFalse\u001B[39;00m, random_state\u001B[39m=\u001B[39mrandom_state)\n\u001B[1;32m    <a href='file:///usr/local/lib/python3.9/site-packages/sklearn/ensemble/_forest.py?line=440'>441</a>\u001B[0m     \u001B[39mfor\u001B[39;00m i \u001B[39min\u001B[39;00m \u001B[39mrange\u001B[39m(n_more_estimators)\n\u001B[1;32m    <a href='file:///usr/local/lib/python3.9/site-packages/sklearn/ensemble/_forest.py?line=441'>442</a>\u001B[0m ]\n\u001B[1;32m    <a href='file:///usr/local/lib/python3.9/site-packages/sklearn/ensemble/_forest.py?line=443'>444</a>\u001B[0m \u001B[39m# Parallel loop: we prefer the threading backend as the Cython code\u001B[39;00m\n\u001B[1;32m    <a href='file:///usr/local/lib/python3.9/site-packages/sklearn/ensemble/_forest.py?line=444'>445</a>\u001B[0m \u001B[39m# for fitting the trees is internally releasing the Python GIL\u001B[39;00m\n\u001B[1;32m    <a href='file:///usr/local/lib/python3.9/site-packages/sklearn/ensemble/_forest.py?line=445'>446</a>\u001B[0m \u001B[39m# making threading more efficient than multiprocessing in\u001B[39;00m\n\u001B[1;32m    <a href='file:///usr/local/lib/python3.9/site-packages/sklearn/ensemble/_forest.py?line=446'>447</a>\u001B[0m \u001B[39m# that case. However, for joblib 0.12+ we respect any\u001B[39;00m\n\u001B[1;32m    <a href='file:///usr/local/lib/python3.9/site-packages/sklearn/ensemble/_forest.py?line=447'>448</a>\u001B[0m \u001B[39m# parallel_backend contexts set at a higher level,\u001B[39;00m\n\u001B[1;32m    <a href='file:///usr/local/lib/python3.9/site-packages/sklearn/ensemble/_forest.py?line=448'>449</a>\u001B[0m \u001B[39m# since correctness does not rely on using threads.\u001B[39;00m\n\u001B[0;32m--> <a href='file:///usr/local/lib/python3.9/site-packages/sklearn/ensemble/_forest.py?line=449'>450</a>\u001B[0m trees \u001B[39m=\u001B[39m Parallel(\n\u001B[1;32m    <a href='file:///usr/local/lib/python3.9/site-packages/sklearn/ensemble/_forest.py?line=450'>451</a>\u001B[0m     n_jobs\u001B[39m=\u001B[39;49m\u001B[39mself\u001B[39;49m\u001B[39m.\u001B[39;49mn_jobs,\n\u001B[1;32m    <a href='file:///usr/local/lib/python3.9/site-packages/sklearn/ensemble/_forest.py?line=451'>452</a>\u001B[0m     verbose\u001B[39m=\u001B[39;49m\u001B[39mself\u001B[39;49m\u001B[39m.\u001B[39;49mverbose,\n\u001B[1;32m    <a href='file:///usr/local/lib/python3.9/site-packages/sklearn/ensemble/_forest.py?line=452'>453</a>\u001B[0m     \u001B[39m*\u001B[39;49m\u001B[39m*\u001B[39;49m_joblib_parallel_args(prefer\u001B[39m=\u001B[39;49m\u001B[39m\"\u001B[39;49m\u001B[39mthreads\u001B[39;49m\u001B[39m\"\u001B[39;49m),\n\u001B[1;32m    <a href='file:///usr/local/lib/python3.9/site-packages/sklearn/ensemble/_forest.py?line=453'>454</a>\u001B[0m )(\n\u001B[1;32m    <a href='file:///usr/local/lib/python3.9/site-packages/sklearn/ensemble/_forest.py?line=454'>455</a>\u001B[0m     delayed(_parallel_build_trees)(\n\u001B[1;32m    <a href='file:///usr/local/lib/python3.9/site-packages/sklearn/ensemble/_forest.py?line=455'>456</a>\u001B[0m         t,\n\u001B[1;32m    <a href='file:///usr/local/lib/python3.9/site-packages/sklearn/ensemble/_forest.py?line=456'>457</a>\u001B[0m         \u001B[39mself\u001B[39;49m,\n\u001B[1;32m    <a href='file:///usr/local/lib/python3.9/site-packages/sklearn/ensemble/_forest.py?line=457'>458</a>\u001B[0m         X,\n\u001B[1;32m    <a href='file:///usr/local/lib/python3.9/site-packages/sklearn/ensemble/_forest.py?line=458'>459</a>\u001B[0m         y,\n\u001B[1;32m    <a href='file:///usr/local/lib/python3.9/site-packages/sklearn/ensemble/_forest.py?line=459'>460</a>\u001B[0m         sample_weight,\n\u001B[1;32m    <a href='file:///usr/local/lib/python3.9/site-packages/sklearn/ensemble/_forest.py?line=460'>461</a>\u001B[0m         i,\n\u001B[1;32m    <a href='file:///usr/local/lib/python3.9/site-packages/sklearn/ensemble/_forest.py?line=461'>462</a>\u001B[0m         \u001B[39mlen\u001B[39;49m(trees),\n\u001B[1;32m    <a href='file:///usr/local/lib/python3.9/site-packages/sklearn/ensemble/_forest.py?line=462'>463</a>\u001B[0m         verbose\u001B[39m=\u001B[39;49m\u001B[39mself\u001B[39;49m\u001B[39m.\u001B[39;49mverbose,\n\u001B[1;32m    <a href='file:///usr/local/lib/python3.9/site-packages/sklearn/ensemble/_forest.py?line=463'>464</a>\u001B[0m         class_weight\u001B[39m=\u001B[39;49m\u001B[39mself\u001B[39;49m\u001B[39m.\u001B[39;49mclass_weight,\n\u001B[1;32m    <a href='file:///usr/local/lib/python3.9/site-packages/sklearn/ensemble/_forest.py?line=464'>465</a>\u001B[0m         n_samples_bootstrap\u001B[39m=\u001B[39;49mn_samples_bootstrap,\n\u001B[1;32m    <a href='file:///usr/local/lib/python3.9/site-packages/sklearn/ensemble/_forest.py?line=465'>466</a>\u001B[0m     )\n\u001B[1;32m    <a href='file:///usr/local/lib/python3.9/site-packages/sklearn/ensemble/_forest.py?line=466'>467</a>\u001B[0m     \u001B[39mfor\u001B[39;49;00m i, t \u001B[39min\u001B[39;49;00m \u001B[39menumerate\u001B[39;49m(trees)\n\u001B[1;32m    <a href='file:///usr/local/lib/python3.9/site-packages/sklearn/ensemble/_forest.py?line=467'>468</a>\u001B[0m )\n\u001B[1;32m    <a href='file:///usr/local/lib/python3.9/site-packages/sklearn/ensemble/_forest.py?line=469'>470</a>\u001B[0m \u001B[39m# Collect newly grown trees\u001B[39;00m\n\u001B[1;32m    <a href='file:///usr/local/lib/python3.9/site-packages/sklearn/ensemble/_forest.py?line=470'>471</a>\u001B[0m \u001B[39mself\u001B[39m\u001B[39m.\u001B[39mestimators_\u001B[39m.\u001B[39mextend(trees)\n",
      "File \u001B[0;32m/usr/local/lib/python3.9/site-packages/joblib/parallel.py:1046\u001B[0m, in \u001B[0;36mParallel.__call__\u001B[0;34m(self, iterable)\u001B[0m\n\u001B[1;32m   <a href='file:///usr/local/lib/python3.9/site-packages/joblib/parallel.py?line=1042'>1043</a>\u001B[0m \u001B[39mif\u001B[39;00m \u001B[39mself\u001B[39m\u001B[39m.\u001B[39mdispatch_one_batch(iterator):\n\u001B[1;32m   <a href='file:///usr/local/lib/python3.9/site-packages/joblib/parallel.py?line=1043'>1044</a>\u001B[0m     \u001B[39mself\u001B[39m\u001B[39m.\u001B[39m_iterating \u001B[39m=\u001B[39m \u001B[39mself\u001B[39m\u001B[39m.\u001B[39m_original_iterator \u001B[39mis\u001B[39;00m \u001B[39mnot\u001B[39;00m \u001B[39mNone\u001B[39;00m\n\u001B[0;32m-> <a href='file:///usr/local/lib/python3.9/site-packages/joblib/parallel.py?line=1045'>1046</a>\u001B[0m \u001B[39mwhile\u001B[39;00m \u001B[39mself\u001B[39;49m\u001B[39m.\u001B[39;49mdispatch_one_batch(iterator):\n\u001B[1;32m   <a href='file:///usr/local/lib/python3.9/site-packages/joblib/parallel.py?line=1046'>1047</a>\u001B[0m     \u001B[39mpass\u001B[39;00m\n\u001B[1;32m   <a href='file:///usr/local/lib/python3.9/site-packages/joblib/parallel.py?line=1048'>1049</a>\u001B[0m \u001B[39mif\u001B[39;00m pre_dispatch \u001B[39m==\u001B[39m \u001B[39m\"\u001B[39m\u001B[39mall\u001B[39m\u001B[39m\"\u001B[39m \u001B[39mor\u001B[39;00m n_jobs \u001B[39m==\u001B[39m \u001B[39m1\u001B[39m:\n\u001B[1;32m   <a href='file:///usr/local/lib/python3.9/site-packages/joblib/parallel.py?line=1049'>1050</a>\u001B[0m     \u001B[39m# The iterable was consumed all at once by the above for loop.\u001B[39;00m\n\u001B[1;32m   <a href='file:///usr/local/lib/python3.9/site-packages/joblib/parallel.py?line=1050'>1051</a>\u001B[0m     \u001B[39m# No need to wait for async callbacks to trigger to\u001B[39;00m\n\u001B[1;32m   <a href='file:///usr/local/lib/python3.9/site-packages/joblib/parallel.py?line=1051'>1052</a>\u001B[0m     \u001B[39m# consumption.\u001B[39;00m\n",
      "File \u001B[0;32m/usr/local/lib/python3.9/site-packages/joblib/parallel.py:861\u001B[0m, in \u001B[0;36mParallel.dispatch_one_batch\u001B[0;34m(self, iterator)\u001B[0m\n\u001B[1;32m    <a href='file:///usr/local/lib/python3.9/site-packages/joblib/parallel.py?line=858'>859</a>\u001B[0m     \u001B[39mreturn\u001B[39;00m \u001B[39mFalse\u001B[39;00m\n\u001B[1;32m    <a href='file:///usr/local/lib/python3.9/site-packages/joblib/parallel.py?line=859'>860</a>\u001B[0m \u001B[39melse\u001B[39;00m:\n\u001B[0;32m--> <a href='file:///usr/local/lib/python3.9/site-packages/joblib/parallel.py?line=860'>861</a>\u001B[0m     \u001B[39mself\u001B[39;49m\u001B[39m.\u001B[39;49m_dispatch(tasks)\n\u001B[1;32m    <a href='file:///usr/local/lib/python3.9/site-packages/joblib/parallel.py?line=861'>862</a>\u001B[0m     \u001B[39mreturn\u001B[39;00m \u001B[39mTrue\u001B[39;00m\n",
      "File \u001B[0;32m/usr/local/lib/python3.9/site-packages/joblib/parallel.py:779\u001B[0m, in \u001B[0;36mParallel._dispatch\u001B[0;34m(self, batch)\u001B[0m\n\u001B[1;32m    <a href='file:///usr/local/lib/python3.9/site-packages/joblib/parallel.py?line=776'>777</a>\u001B[0m \u001B[39mwith\u001B[39;00m \u001B[39mself\u001B[39m\u001B[39m.\u001B[39m_lock:\n\u001B[1;32m    <a href='file:///usr/local/lib/python3.9/site-packages/joblib/parallel.py?line=777'>778</a>\u001B[0m     job_idx \u001B[39m=\u001B[39m \u001B[39mlen\u001B[39m(\u001B[39mself\u001B[39m\u001B[39m.\u001B[39m_jobs)\n\u001B[0;32m--> <a href='file:///usr/local/lib/python3.9/site-packages/joblib/parallel.py?line=778'>779</a>\u001B[0m     job \u001B[39m=\u001B[39m \u001B[39mself\u001B[39;49m\u001B[39m.\u001B[39;49m_backend\u001B[39m.\u001B[39;49mapply_async(batch, callback\u001B[39m=\u001B[39;49mcb)\n\u001B[1;32m    <a href='file:///usr/local/lib/python3.9/site-packages/joblib/parallel.py?line=779'>780</a>\u001B[0m     \u001B[39m# A job can complete so quickly than its callback is\u001B[39;00m\n\u001B[1;32m    <a href='file:///usr/local/lib/python3.9/site-packages/joblib/parallel.py?line=780'>781</a>\u001B[0m     \u001B[39m# called before we get here, causing self._jobs to\u001B[39;00m\n\u001B[1;32m    <a href='file:///usr/local/lib/python3.9/site-packages/joblib/parallel.py?line=781'>782</a>\u001B[0m     \u001B[39m# grow. To ensure correct results ordering, .insert is\u001B[39;00m\n\u001B[1;32m    <a href='file:///usr/local/lib/python3.9/site-packages/joblib/parallel.py?line=782'>783</a>\u001B[0m     \u001B[39m# used (rather than .append) in the following line\u001B[39;00m\n\u001B[1;32m    <a href='file:///usr/local/lib/python3.9/site-packages/joblib/parallel.py?line=783'>784</a>\u001B[0m     \u001B[39mself\u001B[39m\u001B[39m.\u001B[39m_jobs\u001B[39m.\u001B[39minsert(job_idx, job)\n",
      "File \u001B[0;32m/usr/local/lib/python3.9/site-packages/joblib/_parallel_backends.py:208\u001B[0m, in \u001B[0;36mSequentialBackend.apply_async\u001B[0;34m(self, func, callback)\u001B[0m\n\u001B[1;32m    <a href='file:///usr/local/lib/python3.9/site-packages/joblib/_parallel_backends.py?line=205'>206</a>\u001B[0m \u001B[39mdef\u001B[39;00m \u001B[39mapply_async\u001B[39m(\u001B[39mself\u001B[39m, func, callback\u001B[39m=\u001B[39m\u001B[39mNone\u001B[39;00m):\n\u001B[1;32m    <a href='file:///usr/local/lib/python3.9/site-packages/joblib/_parallel_backends.py?line=206'>207</a>\u001B[0m     \u001B[39m\"\"\"Schedule a func to be run\"\"\"\u001B[39;00m\n\u001B[0;32m--> <a href='file:///usr/local/lib/python3.9/site-packages/joblib/_parallel_backends.py?line=207'>208</a>\u001B[0m     result \u001B[39m=\u001B[39m ImmediateResult(func)\n\u001B[1;32m    <a href='file:///usr/local/lib/python3.9/site-packages/joblib/_parallel_backends.py?line=208'>209</a>\u001B[0m     \u001B[39mif\u001B[39;00m callback:\n\u001B[1;32m    <a href='file:///usr/local/lib/python3.9/site-packages/joblib/_parallel_backends.py?line=209'>210</a>\u001B[0m         callback(result)\n",
      "File \u001B[0;32m/usr/local/lib/python3.9/site-packages/joblib/_parallel_backends.py:572\u001B[0m, in \u001B[0;36mImmediateResult.__init__\u001B[0;34m(self, batch)\u001B[0m\n\u001B[1;32m    <a href='file:///usr/local/lib/python3.9/site-packages/joblib/_parallel_backends.py?line=568'>569</a>\u001B[0m \u001B[39mdef\u001B[39;00m \u001B[39m__init__\u001B[39m(\u001B[39mself\u001B[39m, batch):\n\u001B[1;32m    <a href='file:///usr/local/lib/python3.9/site-packages/joblib/_parallel_backends.py?line=569'>570</a>\u001B[0m     \u001B[39m# Don't delay the application, to avoid keeping the input\u001B[39;00m\n\u001B[1;32m    <a href='file:///usr/local/lib/python3.9/site-packages/joblib/_parallel_backends.py?line=570'>571</a>\u001B[0m     \u001B[39m# arguments in memory\u001B[39;00m\n\u001B[0;32m--> <a href='file:///usr/local/lib/python3.9/site-packages/joblib/_parallel_backends.py?line=571'>572</a>\u001B[0m     \u001B[39mself\u001B[39m\u001B[39m.\u001B[39mresults \u001B[39m=\u001B[39m batch()\n",
      "File \u001B[0;32m/usr/local/lib/python3.9/site-packages/joblib/parallel.py:262\u001B[0m, in \u001B[0;36mBatchedCalls.__call__\u001B[0;34m(self)\u001B[0m\n\u001B[1;32m    <a href='file:///usr/local/lib/python3.9/site-packages/joblib/parallel.py?line=257'>258</a>\u001B[0m \u001B[39mdef\u001B[39;00m \u001B[39m__call__\u001B[39m(\u001B[39mself\u001B[39m):\n\u001B[1;32m    <a href='file:///usr/local/lib/python3.9/site-packages/joblib/parallel.py?line=258'>259</a>\u001B[0m     \u001B[39m# Set the default nested backend to self._backend but do not set the\u001B[39;00m\n\u001B[1;32m    <a href='file:///usr/local/lib/python3.9/site-packages/joblib/parallel.py?line=259'>260</a>\u001B[0m     \u001B[39m# change the default number of processes to -1\u001B[39;00m\n\u001B[1;32m    <a href='file:///usr/local/lib/python3.9/site-packages/joblib/parallel.py?line=260'>261</a>\u001B[0m     \u001B[39mwith\u001B[39;00m parallel_backend(\u001B[39mself\u001B[39m\u001B[39m.\u001B[39m_backend, n_jobs\u001B[39m=\u001B[39m\u001B[39mself\u001B[39m\u001B[39m.\u001B[39m_n_jobs):\n\u001B[0;32m--> <a href='file:///usr/local/lib/python3.9/site-packages/joblib/parallel.py?line=261'>262</a>\u001B[0m         \u001B[39mreturn\u001B[39;00m [func(\u001B[39m*\u001B[39margs, \u001B[39m*\u001B[39m\u001B[39m*\u001B[39mkwargs)\n\u001B[1;32m    <a href='file:///usr/local/lib/python3.9/site-packages/joblib/parallel.py?line=262'>263</a>\u001B[0m                 \u001B[39mfor\u001B[39;00m func, args, kwargs \u001B[39min\u001B[39;00m \u001B[39mself\u001B[39m\u001B[39m.\u001B[39mitems]\n",
      "File \u001B[0;32m/usr/local/lib/python3.9/site-packages/joblib/parallel.py:262\u001B[0m, in \u001B[0;36m<listcomp>\u001B[0;34m(.0)\u001B[0m\n\u001B[1;32m    <a href='file:///usr/local/lib/python3.9/site-packages/joblib/parallel.py?line=257'>258</a>\u001B[0m \u001B[39mdef\u001B[39;00m \u001B[39m__call__\u001B[39m(\u001B[39mself\u001B[39m):\n\u001B[1;32m    <a href='file:///usr/local/lib/python3.9/site-packages/joblib/parallel.py?line=258'>259</a>\u001B[0m     \u001B[39m# Set the default nested backend to self._backend but do not set the\u001B[39;00m\n\u001B[1;32m    <a href='file:///usr/local/lib/python3.9/site-packages/joblib/parallel.py?line=259'>260</a>\u001B[0m     \u001B[39m# change the default number of processes to -1\u001B[39;00m\n\u001B[1;32m    <a href='file:///usr/local/lib/python3.9/site-packages/joblib/parallel.py?line=260'>261</a>\u001B[0m     \u001B[39mwith\u001B[39;00m parallel_backend(\u001B[39mself\u001B[39m\u001B[39m.\u001B[39m_backend, n_jobs\u001B[39m=\u001B[39m\u001B[39mself\u001B[39m\u001B[39m.\u001B[39m_n_jobs):\n\u001B[0;32m--> <a href='file:///usr/local/lib/python3.9/site-packages/joblib/parallel.py?line=261'>262</a>\u001B[0m         \u001B[39mreturn\u001B[39;00m [func(\u001B[39m*\u001B[39;49margs, \u001B[39m*\u001B[39;49m\u001B[39m*\u001B[39;49mkwargs)\n\u001B[1;32m    <a href='file:///usr/local/lib/python3.9/site-packages/joblib/parallel.py?line=262'>263</a>\u001B[0m                 \u001B[39mfor\u001B[39;00m func, args, kwargs \u001B[39min\u001B[39;00m \u001B[39mself\u001B[39m\u001B[39m.\u001B[39mitems]\n",
      "File \u001B[0;32m/usr/local/lib/python3.9/site-packages/sklearn/utils/fixes.py:216\u001B[0m, in \u001B[0;36m_FuncWrapper.__call__\u001B[0;34m(self, *args, **kwargs)\u001B[0m\n\u001B[1;32m    <a href='file:///usr/local/lib/python3.9/site-packages/sklearn/utils/fixes.py?line=213'>214</a>\u001B[0m \u001B[39mdef\u001B[39;00m \u001B[39m__call__\u001B[39m(\u001B[39mself\u001B[39m, \u001B[39m*\u001B[39margs, \u001B[39m*\u001B[39m\u001B[39m*\u001B[39mkwargs):\n\u001B[1;32m    <a href='file:///usr/local/lib/python3.9/site-packages/sklearn/utils/fixes.py?line=214'>215</a>\u001B[0m     \u001B[39mwith\u001B[39;00m config_context(\u001B[39m*\u001B[39m\u001B[39m*\u001B[39m\u001B[39mself\u001B[39m\u001B[39m.\u001B[39mconfig):\n\u001B[0;32m--> <a href='file:///usr/local/lib/python3.9/site-packages/sklearn/utils/fixes.py?line=215'>216</a>\u001B[0m         \u001B[39mreturn\u001B[39;00m \u001B[39mself\u001B[39;49m\u001B[39m.\u001B[39;49mfunction(\u001B[39m*\u001B[39;49margs, \u001B[39m*\u001B[39;49m\u001B[39m*\u001B[39;49mkwargs)\n",
      "File \u001B[0;32m/usr/local/lib/python3.9/site-packages/sklearn/ensemble/_forest.py:187\u001B[0m, in \u001B[0;36m_parallel_build_trees\u001B[0;34m(tree, forest, X, y, sample_weight, tree_idx, n_trees, verbose, class_weight, n_samples_bootstrap)\u001B[0m\n\u001B[1;32m    <a href='file:///usr/local/lib/python3.9/site-packages/sklearn/ensemble/_forest.py?line=184'>185</a>\u001B[0m     tree\u001B[39m.\u001B[39mfit(X, y, sample_weight\u001B[39m=\u001B[39mcurr_sample_weight, check_input\u001B[39m=\u001B[39m\u001B[39mFalse\u001B[39;00m)\n\u001B[1;32m    <a href='file:///usr/local/lib/python3.9/site-packages/sklearn/ensemble/_forest.py?line=185'>186</a>\u001B[0m \u001B[39melse\u001B[39;00m:\n\u001B[0;32m--> <a href='file:///usr/local/lib/python3.9/site-packages/sklearn/ensemble/_forest.py?line=186'>187</a>\u001B[0m     tree\u001B[39m.\u001B[39;49mfit(X, y, sample_weight\u001B[39m=\u001B[39;49msample_weight, check_input\u001B[39m=\u001B[39;49m\u001B[39mFalse\u001B[39;49;00m)\n\u001B[1;32m    <a href='file:///usr/local/lib/python3.9/site-packages/sklearn/ensemble/_forest.py?line=188'>189</a>\u001B[0m \u001B[39mreturn\u001B[39;00m tree\n",
      "File \u001B[0;32m/usr/local/lib/python3.9/site-packages/sklearn/tree/_classes.py:937\u001B[0m, in \u001B[0;36mDecisionTreeClassifier.fit\u001B[0;34m(self, X, y, sample_weight, check_input, X_idx_sorted)\u001B[0m\n\u001B[1;32m    <a href='file:///usr/local/lib/python3.9/site-packages/sklearn/tree/_classes.py?line=898'>899</a>\u001B[0m \u001B[39mdef\u001B[39;00m \u001B[39mfit\u001B[39m(\n\u001B[1;32m    <a href='file:///usr/local/lib/python3.9/site-packages/sklearn/tree/_classes.py?line=899'>900</a>\u001B[0m     \u001B[39mself\u001B[39m, X, y, sample_weight\u001B[39m=\u001B[39m\u001B[39mNone\u001B[39;00m, check_input\u001B[39m=\u001B[39m\u001B[39mTrue\u001B[39;00m, X_idx_sorted\u001B[39m=\u001B[39m\u001B[39m\"\u001B[39m\u001B[39mdeprecated\u001B[39m\u001B[39m\"\u001B[39m\n\u001B[1;32m    <a href='file:///usr/local/lib/python3.9/site-packages/sklearn/tree/_classes.py?line=900'>901</a>\u001B[0m ):\n\u001B[1;32m    <a href='file:///usr/local/lib/python3.9/site-packages/sklearn/tree/_classes.py?line=901'>902</a>\u001B[0m     \u001B[39m\"\"\"Build a decision tree classifier from the training set (X, y).\u001B[39;00m\n\u001B[1;32m    <a href='file:///usr/local/lib/python3.9/site-packages/sklearn/tree/_classes.py?line=902'>903</a>\u001B[0m \n\u001B[1;32m    <a href='file:///usr/local/lib/python3.9/site-packages/sklearn/tree/_classes.py?line=903'>904</a>\u001B[0m \u001B[39m    Parameters\u001B[39;00m\n\u001B[0;32m   (...)\u001B[0m\n\u001B[1;32m    <a href='file:///usr/local/lib/python3.9/site-packages/sklearn/tree/_classes.py?line=933'>934</a>\u001B[0m \u001B[39m        Fitted estimator.\u001B[39;00m\n\u001B[1;32m    <a href='file:///usr/local/lib/python3.9/site-packages/sklearn/tree/_classes.py?line=934'>935</a>\u001B[0m \u001B[39m    \"\"\"\u001B[39;00m\n\u001B[0;32m--> <a href='file:///usr/local/lib/python3.9/site-packages/sklearn/tree/_classes.py?line=936'>937</a>\u001B[0m     \u001B[39msuper\u001B[39;49m()\u001B[39m.\u001B[39;49mfit(\n\u001B[1;32m    <a href='file:///usr/local/lib/python3.9/site-packages/sklearn/tree/_classes.py?line=937'>938</a>\u001B[0m         X,\n\u001B[1;32m    <a href='file:///usr/local/lib/python3.9/site-packages/sklearn/tree/_classes.py?line=938'>939</a>\u001B[0m         y,\n\u001B[1;32m    <a href='file:///usr/local/lib/python3.9/site-packages/sklearn/tree/_classes.py?line=939'>940</a>\u001B[0m         sample_weight\u001B[39m=\u001B[39;49msample_weight,\n\u001B[1;32m    <a href='file:///usr/local/lib/python3.9/site-packages/sklearn/tree/_classes.py?line=940'>941</a>\u001B[0m         check_input\u001B[39m=\u001B[39;49mcheck_input,\n\u001B[1;32m    <a href='file:///usr/local/lib/python3.9/site-packages/sklearn/tree/_classes.py?line=941'>942</a>\u001B[0m         X_idx_sorted\u001B[39m=\u001B[39;49mX_idx_sorted,\n\u001B[1;32m    <a href='file:///usr/local/lib/python3.9/site-packages/sklearn/tree/_classes.py?line=942'>943</a>\u001B[0m     )\n\u001B[1;32m    <a href='file:///usr/local/lib/python3.9/site-packages/sklearn/tree/_classes.py?line=943'>944</a>\u001B[0m     \u001B[39mreturn\u001B[39;00m \u001B[39mself\u001B[39m\n",
      "File \u001B[0;32m/usr/local/lib/python3.9/site-packages/sklearn/tree/_classes.py:420\u001B[0m, in \u001B[0;36mBaseDecisionTree.fit\u001B[0;34m(self, X, y, sample_weight, check_input, X_idx_sorted)\u001B[0m\n\u001B[1;32m    <a href='file:///usr/local/lib/python3.9/site-packages/sklearn/tree/_classes.py?line=408'>409</a>\u001B[0m \u001B[39melse\u001B[39;00m:\n\u001B[1;32m    <a href='file:///usr/local/lib/python3.9/site-packages/sklearn/tree/_classes.py?line=409'>410</a>\u001B[0m     builder \u001B[39m=\u001B[39m BestFirstTreeBuilder(\n\u001B[1;32m    <a href='file:///usr/local/lib/python3.9/site-packages/sklearn/tree/_classes.py?line=410'>411</a>\u001B[0m         splitter,\n\u001B[1;32m    <a href='file:///usr/local/lib/python3.9/site-packages/sklearn/tree/_classes.py?line=411'>412</a>\u001B[0m         min_samples_split,\n\u001B[0;32m   (...)\u001B[0m\n\u001B[1;32m    <a href='file:///usr/local/lib/python3.9/site-packages/sklearn/tree/_classes.py?line=416'>417</a>\u001B[0m         \u001B[39mself\u001B[39m\u001B[39m.\u001B[39mmin_impurity_decrease,\n\u001B[1;32m    <a href='file:///usr/local/lib/python3.9/site-packages/sklearn/tree/_classes.py?line=417'>418</a>\u001B[0m     )\n\u001B[0;32m--> <a href='file:///usr/local/lib/python3.9/site-packages/sklearn/tree/_classes.py?line=419'>420</a>\u001B[0m builder\u001B[39m.\u001B[39;49mbuild(\u001B[39mself\u001B[39;49m\u001B[39m.\u001B[39;49mtree_, X, y, sample_weight)\n\u001B[1;32m    <a href='file:///usr/local/lib/python3.9/site-packages/sklearn/tree/_classes.py?line=421'>422</a>\u001B[0m \u001B[39mif\u001B[39;00m \u001B[39mself\u001B[39m\u001B[39m.\u001B[39mn_outputs_ \u001B[39m==\u001B[39m \u001B[39m1\u001B[39m \u001B[39mand\u001B[39;00m is_classifier(\u001B[39mself\u001B[39m):\n\u001B[1;32m    <a href='file:///usr/local/lib/python3.9/site-packages/sklearn/tree/_classes.py?line=422'>423</a>\u001B[0m     \u001B[39mself\u001B[39m\u001B[39m.\u001B[39mn_classes_ \u001B[39m=\u001B[39m \u001B[39mself\u001B[39m\u001B[39m.\u001B[39mn_classes_[\u001B[39m0\u001B[39m]\n",
      "\u001B[0;31mKeyboardInterrupt\u001B[0m: "
     ]
    }
   ],
   "source": [
    "from sklearn.metrics import roc_auc_score\n",
    "\n",
    "\n",
    "\"\"\"\n",
    "for i in range(3, 30):\n",
    "    clf = RandomForestClassifier(criterion='entropy', max_depth=18, bootstrap=False, max_features=i)\n",
    "    \n",
    "    clf.fit(sub_x_train, sub_y_train)\n",
    "    \n",
    "    p = clf.predict(sub_x_test)\n",
    "    \n",
    "    print(\"Max depth: \", i)\n",
    "    print()\n",
    "    print(confusion_matrix(sub_y_test, p))\n",
    "    print()\n",
    "    print(f1_score(sub_y_test,p))\n",
    "    print()\n",
    "    print(roc_auc_score(sub_y_test, clf.predict_proba(sub_x_test)[:, 1]))\n",
    "    print(\"-------------------------------------\")\n",
    "\"\"\""
   ]
  }
 ],
 "metadata": {
  "interpreter": {
   "hash": "7e1998ff7f8aa20ada591c520b972326324e5ea05489af9e422744c7c09f6dad"
  },
  "kernelspec": {
   "display_name": "Python 3 (ipykernel)",
   "language": "python",
   "name": "python3"
  },
  "language_info": {
   "codemirror_mode": {
    "name": "ipython",
    "version": 3
   },
   "file_extension": ".py",
   "mimetype": "text/x-python",
   "name": "python",
   "nbconvert_exporter": "python",
   "pygments_lexer": "ipython3",
   "version": "3.9.10"
  }
 },
 "nbformat": 4,
 "nbformat_minor": 2
}
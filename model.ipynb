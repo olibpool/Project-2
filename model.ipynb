{
 "cells": [
  {
   "cell_type": "markdown",
   "metadata": {},
   "source": [
    "# My model is random forests."
   ]
  },
  {
   "cell_type": "code",
   "execution_count": 43,
   "metadata": {},
   "outputs": [],
   "source": [
    "# import modules\n",
    "\n",
    "import numpy as np\n",
    "import pandas as pd\n",
    "import matplotlib.pyplot as plt\n",
    "%matplotlib inline"
   ]
  },
  {
   "cell_type": "code",
   "execution_count": 44,
   "metadata": {},
   "outputs": [
    {
     "data": {
      "text/plain": "   isFraud  TransactionID  id_17 id_35  TransactionDT  card3 id_15     id_16  \\\n0        0        2987000    NaN   NaN          86400  150.0   NaN       NaN   \n1        0        2987001    NaN   NaN          86401  150.0   NaN       NaN   \n2        0        2987002    NaN   NaN          86469  150.0   NaN       NaN   \n3        0        2987003    NaN   NaN          86499  150.0   NaN       NaN   \n4        0        2987004  166.0     T          86506  150.0   New  NotFound   \n\n  id_28     id_29        id_30      id_33                     DeviceInfo  \\\n0   NaN       NaN          NaN        NaN                            NaN   \n1   NaN       NaN          NaN        NaN                            NaN   \n2   NaN       NaN          NaN        NaN                            NaN   \n3   NaN       NaN          NaN        NaN                            NaN   \n4   New  NotFound  Android 7.0  2220x1080  SAMSUNG SM-G892A Build/NRD90M   \n\n  ProductCD P_emaildomain  \n0         W           NaN  \n1         W     gmail.com  \n2         W   outlook.com  \n3         W     yahoo.com  \n4         H     gmail.com  ",
      "text/html": "<div>\n<style scoped>\n    .dataframe tbody tr th:only-of-type {\n        vertical-align: middle;\n    }\n\n    .dataframe tbody tr th {\n        vertical-align: top;\n    }\n\n    .dataframe thead th {\n        text-align: right;\n    }\n</style>\n<table border=\"1\" class=\"dataframe\">\n  <thead>\n    <tr style=\"text-align: right;\">\n      <th></th>\n      <th>isFraud</th>\n      <th>TransactionID</th>\n      <th>id_17</th>\n      <th>id_35</th>\n      <th>TransactionDT</th>\n      <th>card3</th>\n      <th>id_15</th>\n      <th>id_16</th>\n      <th>id_28</th>\n      <th>id_29</th>\n      <th>id_30</th>\n      <th>id_33</th>\n      <th>DeviceInfo</th>\n      <th>ProductCD</th>\n      <th>P_emaildomain</th>\n    </tr>\n  </thead>\n  <tbody>\n    <tr>\n      <th>0</th>\n      <td>0</td>\n      <td>2987000</td>\n      <td>NaN</td>\n      <td>NaN</td>\n      <td>86400</td>\n      <td>150.0</td>\n      <td>NaN</td>\n      <td>NaN</td>\n      <td>NaN</td>\n      <td>NaN</td>\n      <td>NaN</td>\n      <td>NaN</td>\n      <td>NaN</td>\n      <td>W</td>\n      <td>NaN</td>\n    </tr>\n    <tr>\n      <th>1</th>\n      <td>0</td>\n      <td>2987001</td>\n      <td>NaN</td>\n      <td>NaN</td>\n      <td>86401</td>\n      <td>150.0</td>\n      <td>NaN</td>\n      <td>NaN</td>\n      <td>NaN</td>\n      <td>NaN</td>\n      <td>NaN</td>\n      <td>NaN</td>\n      <td>NaN</td>\n      <td>W</td>\n      <td>gmail.com</td>\n    </tr>\n    <tr>\n      <th>2</th>\n      <td>0</td>\n      <td>2987002</td>\n      <td>NaN</td>\n      <td>NaN</td>\n      <td>86469</td>\n      <td>150.0</td>\n      <td>NaN</td>\n      <td>NaN</td>\n      <td>NaN</td>\n      <td>NaN</td>\n      <td>NaN</td>\n      <td>NaN</td>\n      <td>NaN</td>\n      <td>W</td>\n      <td>outlook.com</td>\n    </tr>\n    <tr>\n      <th>3</th>\n      <td>0</td>\n      <td>2987003</td>\n      <td>NaN</td>\n      <td>NaN</td>\n      <td>86499</td>\n      <td>150.0</td>\n      <td>NaN</td>\n      <td>NaN</td>\n      <td>NaN</td>\n      <td>NaN</td>\n      <td>NaN</td>\n      <td>NaN</td>\n      <td>NaN</td>\n      <td>W</td>\n      <td>yahoo.com</td>\n    </tr>\n    <tr>\n      <th>4</th>\n      <td>0</td>\n      <td>2987004</td>\n      <td>166.0</td>\n      <td>T</td>\n      <td>86506</td>\n      <td>150.0</td>\n      <td>New</td>\n      <td>NotFound</td>\n      <td>New</td>\n      <td>NotFound</td>\n      <td>Android 7.0</td>\n      <td>2220x1080</td>\n      <td>SAMSUNG SM-G892A Build/NRD90M</td>\n      <td>H</td>\n      <td>gmail.com</td>\n    </tr>\n  </tbody>\n</table>\n</div>"
     },
     "execution_count": 44,
     "metadata": {},
     "output_type": "execute_result"
    }
   ],
   "source": [
    "# import dataset1\n",
    "\n",
    "oli = pd.read_csv('Data/finaldataset.csv', index_col=0)\n",
    "\n",
    "oli.head()"
   ]
  },
  {
   "cell_type": "code",
   "execution_count": 45,
   "metadata": {},
   "outputs": [
    {
     "data": {
      "text/plain": "['isFraud', 'TransactionID', 'id_17', 'TransactionDT', 'card3']"
     },
     "execution_count": 45,
     "metadata": {},
     "output_type": "execute_result"
    }
   ],
   "source": [
    "oli.select_dtypes(include=np.number).columns.to_list()"
   ]
  },
  {
   "cell_type": "code",
   "execution_count": 46,
   "metadata": {},
   "outputs": [
    {
     "data": {
      "text/plain": "id_35               2\nid_15               3\nid_16               2\nid_28               2\nid_29               2\nid_30              75\nid_33             260\nDeviceInfo       1786\nProductCD           5\nP_emaildomain      59\ndtype: int64"
     },
     "execution_count": 46,
     "metadata": {},
     "output_type": "execute_result"
    }
   ],
   "source": [
    "oli.select_dtypes(exclude=np.number).nunique()"
   ]
  },
  {
   "cell_type": "code",
   "execution_count": 47,
   "metadata": {},
   "outputs": [
    {
     "data": {
      "text/plain": "['isFraud',\n 'TransactionID',\n 'id_17',\n 'id_35',\n 'TransactionDT',\n 'card3',\n 'id_15',\n 'id_16',\n 'id_28',\n 'id_29',\n 'id_30',\n 'id_33',\n 'DeviceInfo',\n 'ProductCD',\n 'P_emaildomain']"
     },
     "execution_count": 47,
     "metadata": {},
     "output_type": "execute_result"
    }
   ],
   "source": [
    "oli.columns.tolist()"
   ]
  },
  {
   "cell_type": "code",
   "execution_count": 48,
   "metadata": {},
   "outputs": [
    {
     "data": {
      "text/plain": "array([nan, '2220x1080', '1334x750', '1280x800', '1366x768', '1920x1080',\n       '1680x1050', '1136x640', '5120x2880', '2880x1800', '1920x1200',\n       '2560x1600', '2048x1536', '1024x768', '1280x720', '2560x1440',\n       '2208x1242', '2001x1125', '1440x900', '1600x900', '2672x1440',\n       '1280x1024', '960x540', '2732x2048', '2436x1125', '2048x1152',\n       '2960x1440', '1024x600', '855x480', '4096x2304', '2160x1440',\n       '2562x1442', '801x480', '2736x1824', '3441x1440', '2880x1620',\n       '3840x2160', '1638x922', '1280x768', '1360x768', '1280x960',\n       '3440x1440', '1152x720', '1280x1025', '3360x2100', '2304x1296',\n       '1152x864', '3200x1800', '2112x1188', '2224x1668', '2400x1350',\n       '2000x1125', '1600x1000', '2560x1080', '1728x972', '3000x2000',\n       '1024x640', '3840x2400', '2304x1440', '1280x600', '1400x1050',\n       '1600x1200', '3201x1800', '1356x900', '1344x756', '1624x1080',\n       '1536x864', '1800x1125', '1920x1281', '2961x1442', '1366x1024',\n       '1344x840', '3360x1890', '1536x1152', '1200x675', '1480x720',\n       '2400x1600', '3200x2000', '1281x801', '960x640', '1776x1000',\n       '2048x1280', '2049x1152', '1138x640', '2160x1215', '2880x1440',\n       '0x0', '2520x1575', '5760x3240', '3843x2163', '1184x720',\n       '1440x810', '2076x1080', '1600x837', '1093x615', '1281x721',\n       '1152x648', '2392x1440', '2048x1080', '2735x1825', '1680x945',\n       '1805x1015', '5760x1080', '2816x1584', '4500x3000', '1684x947',\n       '1440x960', '1364x768', '3072x1728', '5040x3150', '7500x5000',\n       '768x576', '1768x992', '1658x946', '1200x720', '1239x697',\n       '1188x720', '1232x800', '1920x1280', '1264x924', '1400x900',\n       '3240x2160', '2961x1440', '1422x889', '1848x1155', '3360x1050',\n       '3840x1080', '2010x1080', '2160x1350', '1440x720', '1280x712',\n       '1512x945', '1296x774', '1368x768', '3520x1980', '800x600',\n       '1700x960', '2560x1800', '6400x3600', '2368x1440', '1824x1026',\n       '1912x1025', '600x450', '3840x1600', '1760x990', '2700x1800',\n       '1371x857', '1776x1080', '2552x1337', '3600x2250', '2560x1700',\n       '2816x1760', '1440x800', '1440x803', '1920x1018', '6016x3384',\n       '1280x620', '1281x720', '1720x1440', '1408x880', '640x360',\n       '1920x975', '976x600', '1062x630', '2800x1575', '6720x3780',\n       '1440x759', '1120x700', '1921x1081', '1280x1023', '1279x1023',\n       '1441x901', '1679x1049', '1680x1051', '2220x1081', '1920x1079',\n       '1919x1199', '1680x1049', '1365x768', '1919x1079', '1919x1200',\n       '1919x1080', '1366x767', '1584x990', '2880x1442', '1281x800',\n       '1229x691', '1600x1024', '1600x899', '1536x960', '1502x844',\n       '1920x1201', '1439x809', '1408x792', '1279x1024', '1599x900',\n       '1920x1081', '921x691', '3841x2161', '1921x1080', '480x320',\n       '1888x941', '2049x1536', '2160x1439', '1707x960', '1024x767',\n       '1365x767', '3001x2000', '3839x2160', '1916x901', '3838x2158',\n       '1599x899', '3199x1800', '1511x944', '2737x1825', '2736x1823',\n       '2735x1823', '2559x1439', '2400x1500', '2882x1442', '1729x973',\n       '1727x971', '1023x767', '1918x1080', '1439x900', '4499x2999',\n       '1280x740', '2999x2000', '1024x552', '1440x899', '2255x1503',\n       '1025x768', '1280x732', '3839x2159', '3840x2162', '3696x2310',\n       '2159x1439', '2256x1504', '1439x899', '2159x1440', '1359x768',\n       '1092x614', '2048x1278', '2591x1619', '4200x2625', '2710x1440',\n       '1272x960', '1023x768', '3838x2160', '2100x1312', '1360x767',\n       '1024x819', '1502x845', '2561x1442', '2559x1440', '2160x1081',\n       '1920x1279', '2160x1080', '1596x710', '1496x844', '1280x900'],\n      dtype=object)"
     },
     "execution_count": 48,
     "metadata": {},
     "output_type": "execute_result"
    }
   ],
   "source": [
    "oli['id_33'].unique()"
   ]
  },
  {
   "cell_type": "markdown",
   "metadata": {},
   "source": [
    "Create data transformation pipeline"
   ]
  },
  {
   "cell_type": "code",
   "execution_count": 49,
   "metadata": {
    "collapsed": false,
    "pycharm": {
     "name": "#%%\n"
    }
   },
   "outputs": [
    {
     "data": {
      "text/plain": "0         hi\n1         hi\n2         hi\n3         hi\n4         hi\n          ..\n590535    hi\n590536    hi\n590537    hi\n590538    hi\n590539    hi\nName: DeviceInfo, Length: 590540, dtype: object"
     },
     "execution_count": 49,
     "metadata": {},
     "output_type": "execute_result"
    }
   ],
   "source": [
    "X = oli.drop('isFraud', axis=1)\n",
    "\n",
    "X_ = X.copy()\n",
    "\n",
    "temp = X_['DeviceInfo'].copy()\n",
    "\n",
    "valid_types = ['Windows', 'iOS Device', 'MacOS', 'Trident/7.0']\n",
    "\n",
    "temp[~(temp.isin(valid_types))] = 'hi'\n",
    "\n",
    "temp"
   ]
  },
  {
   "cell_type": "code",
   "execution_count": 50,
   "metadata": {
    "collapsed": false,
    "pycharm": {
     "name": "#%%\n"
    }
   },
   "outputs": [
    {
     "data": {
      "text/plain": "   TransactionID  id_17 id_35  TransactionDT  card3 id_15     id_16 id_28  \\\n0        2987000    NaN   NaN          86400  150.0   NaN       NaN   NaN   \n1        2987001    NaN   NaN          86401  150.0   NaN       NaN   NaN   \n2        2987002    NaN   NaN          86469  150.0   NaN       NaN   NaN   \n3        2987003    NaN   NaN          86499  150.0   NaN       NaN   NaN   \n4        2987004  166.0     T          86506  150.0   New  NotFound   New   \n\n      id_29        id_30      id_33 DeviceInfo ProductCD P_emaildomain  \n0       NaN          NaN        NaN      other         W           NaN  \n1       NaN          NaN        NaN      other         W     gmail.com  \n2       NaN          NaN        NaN      other         W   outlook.com  \n3       NaN          NaN        NaN      other         W     yahoo.com  \n4  NotFound  Android 7.0  2220x1080      other         H     gmail.com  ",
      "text/html": "<div>\n<style scoped>\n    .dataframe tbody tr th:only-of-type {\n        vertical-align: middle;\n    }\n\n    .dataframe tbody tr th {\n        vertical-align: top;\n    }\n\n    .dataframe thead th {\n        text-align: right;\n    }\n</style>\n<table border=\"1\" class=\"dataframe\">\n  <thead>\n    <tr style=\"text-align: right;\">\n      <th></th>\n      <th>TransactionID</th>\n      <th>id_17</th>\n      <th>id_35</th>\n      <th>TransactionDT</th>\n      <th>card3</th>\n      <th>id_15</th>\n      <th>id_16</th>\n      <th>id_28</th>\n      <th>id_29</th>\n      <th>id_30</th>\n      <th>id_33</th>\n      <th>DeviceInfo</th>\n      <th>ProductCD</th>\n      <th>P_emaildomain</th>\n    </tr>\n  </thead>\n  <tbody>\n    <tr>\n      <th>0</th>\n      <td>2987000</td>\n      <td>NaN</td>\n      <td>NaN</td>\n      <td>86400</td>\n      <td>150.0</td>\n      <td>NaN</td>\n      <td>NaN</td>\n      <td>NaN</td>\n      <td>NaN</td>\n      <td>NaN</td>\n      <td>NaN</td>\n      <td>other</td>\n      <td>W</td>\n      <td>NaN</td>\n    </tr>\n    <tr>\n      <th>1</th>\n      <td>2987001</td>\n      <td>NaN</td>\n      <td>NaN</td>\n      <td>86401</td>\n      <td>150.0</td>\n      <td>NaN</td>\n      <td>NaN</td>\n      <td>NaN</td>\n      <td>NaN</td>\n      <td>NaN</td>\n      <td>NaN</td>\n      <td>other</td>\n      <td>W</td>\n      <td>gmail.com</td>\n    </tr>\n    <tr>\n      <th>2</th>\n      <td>2987002</td>\n      <td>NaN</td>\n      <td>NaN</td>\n      <td>86469</td>\n      <td>150.0</td>\n      <td>NaN</td>\n      <td>NaN</td>\n      <td>NaN</td>\n      <td>NaN</td>\n      <td>NaN</td>\n      <td>NaN</td>\n      <td>other</td>\n      <td>W</td>\n      <td>outlook.com</td>\n    </tr>\n    <tr>\n      <th>3</th>\n      <td>2987003</td>\n      <td>NaN</td>\n      <td>NaN</td>\n      <td>86499</td>\n      <td>150.0</td>\n      <td>NaN</td>\n      <td>NaN</td>\n      <td>NaN</td>\n      <td>NaN</td>\n      <td>NaN</td>\n      <td>NaN</td>\n      <td>other</td>\n      <td>W</td>\n      <td>yahoo.com</td>\n    </tr>\n    <tr>\n      <th>4</th>\n      <td>2987004</td>\n      <td>166.0</td>\n      <td>T</td>\n      <td>86506</td>\n      <td>150.0</td>\n      <td>New</td>\n      <td>NotFound</td>\n      <td>New</td>\n      <td>NotFound</td>\n      <td>Android 7.0</td>\n      <td>2220x1080</td>\n      <td>other</td>\n      <td>H</td>\n      <td>gmail.com</td>\n    </tr>\n  </tbody>\n</table>\n</div>"
     },
     "execution_count": 50,
     "metadata": {},
     "output_type": "execute_result"
    }
   ],
   "source": [
    "\n",
    "new_deviceInfo = temp[~(temp.isin(valid_types))] = 'other'\n",
    "\n",
    "X_['DeviceInfo'] = new_deviceInfo\n",
    "\n",
    "X_.head()"
   ]
  },
  {
   "cell_type": "code",
   "execution_count": 51,
   "metadata": {},
   "outputs": [],
   "source": [
    "from sklearn.pipeline import Pipeline\n",
    "from sklearn.impute import SimpleImputer\n",
    "from sklearn.preprocessing import OneHotEncoder\n",
    "from sklearn.base import BaseEstimator, TransformerMixin\n",
    "\n",
    "class select_and_order_cols(BaseEstimator, TransformerMixin):\n",
    "    def __init__(self):\n",
    "        return\n",
    "    \n",
    "    def fit(self, X, y=None):\n",
    "        return self\n",
    "        \n",
    "    def transform(self, X):\n",
    "        X_ = X.copy()\n",
    "        \n",
    "        cols_order = oli.columns.to_list()\n",
    "        cols_order.remove('isFraud')\n",
    "\n",
    "        temp = X_[cols_order]\n",
    "        \n",
    "        return temp\n",
    "\n",
    "class emailTransformer(BaseEstimator, TransformerMixin):\n",
    "    def __init__(self):\n",
    "        return\n",
    "    \n",
    "    def fit(self, X, y=None):\n",
    "        return self\n",
    "        \n",
    "    def transform(self, X):\n",
    "        X_ = X.copy()\n",
    "\n",
    "        temp = X_['P_emaildomain'].copy()\n",
    "\n",
    "        valid_emails = ['gmail.com', 'hotmail.com', 'anonymous.com', 'yahoo.com']\n",
    "        \n",
    "        temp[~(temp.isin(valid_emails))] = 'other'\n",
    "        \n",
    "        X_['P_emaildomain'] = temp\n",
    "        \n",
    "        return X_\n",
    "        \n",
    "specific = ['id_30','id_33','DeviceInfo']\n",
    "\n",
    "class id_30_transformer(BaseEstimator, TransformerMixin):\n",
    "    def __init__(self):\n",
    "        return\n",
    "    \n",
    "    def fit(self, X, y=None):\n",
    "        return\n",
    "    \n",
    "    def transform(self, X):\n",
    "        X_ = X.copy()\n",
    "\n",
    "        temp = X_['id_30'].copy()\n",
    "\n",
    "        valid_types = ['Windows 10', 'Windows 7', 'iOS 11.2.1', \n",
    "                       'iOS 11.1.2', 'Android 7.0', 'Mac OS X 10_12_6', 'Mac OS X 10_11_6']\n",
    "        \n",
    "        temp[~(temp.isin(valid_types))] = 'other'\n",
    "        \n",
    "        X_['id_30'] = temp\n",
    "        \n",
    "        return X_\n",
    "    \n",
    "class id_33_transformer(BaseEstimator, TransformerMixin):\n",
    "    def __init__(self):\n",
    "        return\n",
    "\n",
    "    def fit(self, X, y=None):\n",
    "        return\n",
    "    \n",
    "    def transform(self, X):\n",
    "\n",
    "        X_ = X.copy()\n",
    "\n",
    "        temp = X_['id_33'].copy()\n",
    "\n",
    "        valid_types = ['1920x1080', '1366x768', '1334x750', '2208x1242', '1440x900',\n",
    "                       '1600x900', '2048x1536', '1280x800', '2560x1600', '2560x1440',\n",
    "                       '2880x1800', '1280x1024', '1680x1050', '1136x640']\n",
    "\n",
    "        \n",
    "        temp[~(temp.isin(valid_types))] = 'other'\n",
    "        \n",
    "        X_['id_33'] = temp\n",
    "        \n",
    "        return X_\n",
    "        \n",
    "class DeviceInfo_transformer(BaseEstimator, TransformerMixin):\n",
    "    def __init__(self):\n",
    "        return\n",
    "    \n",
    "    \n",
    "    def fit(self, X, y=None):\n",
    "        return\n",
    "    \n",
    "    def transform(self, X):\n",
    "\n",
    "        X_ = X.copy()\n",
    "\n",
    "        temp = X_['DeviceInfo'].copy()\n",
    "        \n",
    "        valid_types = ['Windows', 'iOS Device', 'MacOS', 'Trident/7.0']\n",
    "        \n",
    "        temp[~(temp.isin(valid_types))] = 'other'\n",
    "        \n",
    "        X_['DeviceInfo'] = temp\n",
    "        \n",
    "        return X_\n",
    "\n",
    "class num_imputer(BaseEstimator, TransformerMixin):\n",
    "    def __init__(self):\n",
    "        return\n",
    "\n",
    "    def fit(self, X, y=None):\n",
    "        return\n",
    "\n",
    "    def transform(self, X):\n",
    "\n",
    "        X_ = X.copy()\n",
    "\n",
    "        num_cols = X_.select_dtypes(exclude=object).columns.to_list()\n",
    "\n",
    "        X_[num_cols] = X_[num_cols].fillna(X_[num_cols].mean())\n",
    "\n",
    "        return X_\n",
    "\n",
    "class cat_imputer(BaseEstimator, TransformerMixin):\n",
    "    def __init__(self):\n",
    "        return\n",
    "\n",
    "    def fit(self, X, y=None):\n",
    "        return\n",
    "\n",
    "    def transform(self, X):\n",
    "        X_ = X.copy()\n",
    "\n",
    "        cat_cols = X_.select_dtypes(include=object).columns.to_list()\n",
    "\n",
    "        X_[cat_cols] = X_[cat_cols].fillna(X_[cat_cols].mode())\n",
    "\n",
    "        return X_\n",
    "\n",
    "class dummies(BaseEstimator, TransformerMixin):\n",
    "    def __init__(self):\n",
    "        return\n",
    "\n",
    "    def fit(self, X, y=None):\n",
    "        return\n",
    "\n",
    "    def transform(self, X):\n",
    "        X_ = X.copy()\n",
    "\n",
    "        X_ = pd.get_dummies(X_)\n",
    "\n",
    "        return X_"
   ]
  },
  {
   "cell_type": "code",
   "execution_count": 52,
   "metadata": {},
   "outputs": [],
   "source": [
    "num_pipeline = Pipeline([\n",
    "    ('imputer', num_imputer)\n",
    "])"
   ]
  },
  {
   "cell_type": "code",
   "execution_count": 53,
   "metadata": {},
   "outputs": [],
   "source": [
    "cat_pipeline = Pipeline([\n",
    "    ('imp', cat_imputer),\n",
    "    ('onehot', dummies)\n",
    "])"
   ]
  },
  {
   "cell_type": "code",
   "execution_count": 61,
   "metadata": {
    "collapsed": false,
    "pycharm": {
     "name": "#%%\n"
    }
   },
   "outputs": [],
   "source": [
    "first_pipeline = Pipeline([\n",
    "    ('email', emailTransformer()),\n",
    "    ('id_30', id_30_transformer()),\n",
    "    ('id_33', id_33_transformer()),\n",
    "    ('devinfo', DeviceInfo_transformer()),\n",
    "    ('num_imputer', num_imputer()),\n",
    "    ('cat_imp', cat_imputer()),\n",
    "    ('onehot', dummies())\n",
    "])\n"
   ]
  },
  {
   "cell_type": "markdown",
   "metadata": {},
   "source": [
    "Import in randomforest"
   ]
  },
  {
   "cell_type": "code",
   "execution_count": 55,
   "metadata": {},
   "outputs": [],
   "source": [
    "from sklearn.ensemble import RandomForestClassifier\n",
    "\n",
    "forest = RandomForestClassifier(n_estimators=20, max_depth=None, bootstrap=False, max_features=8)"
   ]
  },
  {
   "cell_type": "code",
   "execution_count": 56,
   "metadata": {},
   "outputs": [],
   "source": [
    "train_t = pd.read_csv('Data/initial/train_transaction.csv')\n",
    "train_i = pd.read_csv('Data/initial/train_identity.csv')\n",
    "\n",
    "cols_to_use = train_i.columns.difference(train_t.columns).to_list()\n",
    "\n",
    "cols_to_use.append('TransactionID')\n",
    "\n",
    "full_train = train_t.merge(train_i[cols_to_use], on='TransactionID', how='left')\n",
    "\n",
    "cols = oli.columns.to_list()\n",
    "\n",
    "train = full_train[cols]"
   ]
  },
  {
   "cell_type": "code",
   "execution_count": 62,
   "metadata": {},
   "outputs": [],
   "source": [
    "y = train['isFraud']\n",
    "\n",
    "X = train.drop('isFraud', axis=1)\n",
    "\n",
    "X = first_pipeline.transform(X)"
   ]
  },
  {
   "cell_type": "code",
   "execution_count": 63,
   "metadata": {},
   "outputs": [
    {
     "data": {
      "text/plain": "RandomForestClassifier(bootstrap=False, max_features=8, n_estimators=20)"
     },
     "execution_count": 63,
     "metadata": {},
     "output_type": "execute_result"
    }
   ],
   "source": [
    "forest.fit(X,y)"
   ]
  },
  {
   "cell_type": "code",
   "execution_count": 64,
   "metadata": {},
   "outputs": [
    {
     "data": {
      "text/plain": "['Data/model_attempt2.joblib']"
     },
     "execution_count": 64,
     "metadata": {},
     "output_type": "execute_result"
    }
   ],
   "source": [
    "from joblib import dump, load\n",
    "\n",
    "dump(forest, 'Data/model_attempt2.joblib')\n",
    "#forest = load('Data/model.joblib')"
   ]
  },
  {
   "cell_type": "code",
   "execution_count": 65,
   "metadata": {
    "collapsed": false,
    "pycharm": {
     "name": "#%%\n"
    }
   },
   "outputs": [
    {
     "data": {
      "text/plain": "array([[569877,      0],\n       [     0,  20663]])"
     },
     "execution_count": 65,
     "metadata": {},
     "output_type": "execute_result"
    }
   ],
   "source": [
    "from sklearn.metrics import confusion_matrix\n",
    "\n",
    "train_preds = forest.predict(X)\n",
    "\n",
    "mat = confusion_matrix(y, train_preds)\n",
    "\n",
    "mat"
   ]
  },
  {
   "cell_type": "code",
   "execution_count": 66,
   "metadata": {
    "collapsed": false,
    "pycharm": {
     "name": "#%%\n"
    }
   },
   "outputs": [
    {
     "data": {
      "text/plain": "1.0"
     },
     "execution_count": 66,
     "metadata": {},
     "output_type": "execute_result"
    }
   ],
   "source": [
    "forest.score(X,y)"
   ]
  },
  {
   "cell_type": "code",
   "execution_count": 67,
   "metadata": {
    "collapsed": false,
    "pycharm": {
     "name": "#%%\n"
    }
   },
   "outputs": [
    {
     "data": {
      "text/plain": "1.0"
     },
     "execution_count": 67,
     "metadata": {},
     "output_type": "execute_result"
    }
   ],
   "source": [
    "from sklearn.metrics import f1_score\n",
    "\n",
    "preds = forest.predict(X)\n",
    "\n",
    "f1 = f1_score(y, preds)\n",
    "\n",
    "f1"
   ]
  },
  {
   "cell_type": "code",
   "execution_count": null,
   "metadata": {},
   "outputs": [],
   "source": [
    "from sklearn.model_selection import cross_val_score\n",
    "\n",
    "#scores = cross_val_score(forest, X, y, cv=5, scoring='f1')\n",
    "\n",
    "#np.mean(scores)"
   ]
  },
  {
   "cell_type": "code",
   "execution_count": 68,
   "metadata": {
    "collapsed": false,
    "pycharm": {
     "name": "#%%\n"
    }
   },
   "outputs": [],
   "source": [
    "test_identity = pd.read_csv('Data/initial/test_identity.csv')\n",
    "test_transaction = pd.read_csv('Data/initial/test_transaction.csv')"
   ]
  },
  {
   "cell_type": "code",
   "execution_count": 69,
   "metadata": {
    "collapsed": false,
    "pycharm": {
     "name": "#%%\n"
    }
   },
   "outputs": [],
   "source": [
    "cols_to_use = test_identity.columns.difference(test_transaction.columns).to_list()\n",
    "\n",
    "cols_to_use.append('TransactionID')"
   ]
  },
  {
   "cell_type": "code",
   "execution_count": 77,
   "metadata": {
    "collapsed": false,
    "pycharm": {
     "name": "#%%\n"
    }
   },
   "outputs": [],
   "source": [
    "full_test = test_transaction.join(test_identity.set_index('TransactionID'), on='TransactionID')"
   ]
  },
  {
   "cell_type": "code",
   "execution_count": 78,
   "metadata": {
    "collapsed": false,
    "pycharm": {
     "name": "#%%\n"
    }
   },
   "outputs": [
    {
     "data": {
      "text/plain": "   TransactionID  TransactionDT  TransactionAmt ProductCD  card1  card2  \\\n0        3663549       18403224           31.95         W  10409  111.0   \n1        3663550       18403263           49.00         W   4272  111.0   \n2        3663551       18403310          171.00         W   4476  574.0   \n3        3663552       18403310          284.95         W  10989  360.0   \n4        3663553       18403317           67.95         W  18018  452.0   \n\n   card3       card4  card5  card6  ...  id_31  id_32  id_33  id_34 id_35  \\\n0  150.0        visa  226.0  debit  ...    NaN    NaN    NaN    NaN   NaN   \n1  150.0        visa  226.0  debit  ...    NaN    NaN    NaN    NaN   NaN   \n2  150.0        visa  226.0  debit  ...    NaN    NaN    NaN    NaN   NaN   \n3  150.0        visa  166.0  debit  ...    NaN    NaN    NaN    NaN   NaN   \n4  150.0  mastercard  117.0  debit  ...    NaN    NaN    NaN    NaN   NaN   \n\n  id_36  id_37  id_38  DeviceType  DeviceInfo  \n0   NaN    NaN    NaN         NaN         NaN  \n1   NaN    NaN    NaN         NaN         NaN  \n2   NaN    NaN    NaN         NaN         NaN  \n3   NaN    NaN    NaN         NaN         NaN  \n4   NaN    NaN    NaN         NaN         NaN  \n\n[5 rows x 433 columns]",
      "text/html": "<div>\n<style scoped>\n    .dataframe tbody tr th:only-of-type {\n        vertical-align: middle;\n    }\n\n    .dataframe tbody tr th {\n        vertical-align: top;\n    }\n\n    .dataframe thead th {\n        text-align: right;\n    }\n</style>\n<table border=\"1\" class=\"dataframe\">\n  <thead>\n    <tr style=\"text-align: right;\">\n      <th></th>\n      <th>TransactionID</th>\n      <th>TransactionDT</th>\n      <th>TransactionAmt</th>\n      <th>ProductCD</th>\n      <th>card1</th>\n      <th>card2</th>\n      <th>card3</th>\n      <th>card4</th>\n      <th>card5</th>\n      <th>card6</th>\n      <th>...</th>\n      <th>id_31</th>\n      <th>id_32</th>\n      <th>id_33</th>\n      <th>id_34</th>\n      <th>id_35</th>\n      <th>id_36</th>\n      <th>id_37</th>\n      <th>id_38</th>\n      <th>DeviceType</th>\n      <th>DeviceInfo</th>\n    </tr>\n  </thead>\n  <tbody>\n    <tr>\n      <th>0</th>\n      <td>3663549</td>\n      <td>18403224</td>\n      <td>31.95</td>\n      <td>W</td>\n      <td>10409</td>\n      <td>111.0</td>\n      <td>150.0</td>\n      <td>visa</td>\n      <td>226.0</td>\n      <td>debit</td>\n      <td>...</td>\n      <td>NaN</td>\n      <td>NaN</td>\n      <td>NaN</td>\n      <td>NaN</td>\n      <td>NaN</td>\n      <td>NaN</td>\n      <td>NaN</td>\n      <td>NaN</td>\n      <td>NaN</td>\n      <td>NaN</td>\n    </tr>\n    <tr>\n      <th>1</th>\n      <td>3663550</td>\n      <td>18403263</td>\n      <td>49.00</td>\n      <td>W</td>\n      <td>4272</td>\n      <td>111.0</td>\n      <td>150.0</td>\n      <td>visa</td>\n      <td>226.0</td>\n      <td>debit</td>\n      <td>...</td>\n      <td>NaN</td>\n      <td>NaN</td>\n      <td>NaN</td>\n      <td>NaN</td>\n      <td>NaN</td>\n      <td>NaN</td>\n      <td>NaN</td>\n      <td>NaN</td>\n      <td>NaN</td>\n      <td>NaN</td>\n    </tr>\n    <tr>\n      <th>2</th>\n      <td>3663551</td>\n      <td>18403310</td>\n      <td>171.00</td>\n      <td>W</td>\n      <td>4476</td>\n      <td>574.0</td>\n      <td>150.0</td>\n      <td>visa</td>\n      <td>226.0</td>\n      <td>debit</td>\n      <td>...</td>\n      <td>NaN</td>\n      <td>NaN</td>\n      <td>NaN</td>\n      <td>NaN</td>\n      <td>NaN</td>\n      <td>NaN</td>\n      <td>NaN</td>\n      <td>NaN</td>\n      <td>NaN</td>\n      <td>NaN</td>\n    </tr>\n    <tr>\n      <th>3</th>\n      <td>3663552</td>\n      <td>18403310</td>\n      <td>284.95</td>\n      <td>W</td>\n      <td>10989</td>\n      <td>360.0</td>\n      <td>150.0</td>\n      <td>visa</td>\n      <td>166.0</td>\n      <td>debit</td>\n      <td>...</td>\n      <td>NaN</td>\n      <td>NaN</td>\n      <td>NaN</td>\n      <td>NaN</td>\n      <td>NaN</td>\n      <td>NaN</td>\n      <td>NaN</td>\n      <td>NaN</td>\n      <td>NaN</td>\n      <td>NaN</td>\n    </tr>\n    <tr>\n      <th>4</th>\n      <td>3663553</td>\n      <td>18403317</td>\n      <td>67.95</td>\n      <td>W</td>\n      <td>18018</td>\n      <td>452.0</td>\n      <td>150.0</td>\n      <td>mastercard</td>\n      <td>117.0</td>\n      <td>debit</td>\n      <td>...</td>\n      <td>NaN</td>\n      <td>NaN</td>\n      <td>NaN</td>\n      <td>NaN</td>\n      <td>NaN</td>\n      <td>NaN</td>\n      <td>NaN</td>\n      <td>NaN</td>\n      <td>NaN</td>\n      <td>NaN</td>\n    </tr>\n  </tbody>\n</table>\n<p>5 rows × 433 columns</p>\n</div>"
     },
     "execution_count": 78,
     "metadata": {},
     "output_type": "execute_result"
    }
   ],
   "source": [
    "full_test.head()"
   ]
  },
  {
   "cell_type": "markdown",
   "metadata": {},
   "source": [
    "Just select columns used in our training data"
   ]
  },
  {
   "cell_type": "code",
   "execution_count": 79,
   "metadata": {
    "pycharm": {
     "name": "#%%\n"
    }
   },
   "outputs": [],
   "source": [
    "cols = oli.columns.to_list()\n",
    "cols.remove('isFraud')\n",
    "\n",
    "test = full_test[cols]\n",
    "\n",
    "X_test = first_pipeline.transform(test)\n",
    "\n",
    "y_preds = forest.predict(X_test)"
   ]
  },
  {
   "cell_type": "code",
   "execution_count": 80,
   "metadata": {},
   "outputs": [
    {
     "data": {
      "text/plain": "4019"
     },
     "execution_count": 80,
     "metadata": {},
     "output_type": "execute_result"
    }
   ],
   "source": [
    "sum(y_preds)"
   ]
  },
  {
   "cell_type": "code",
   "execution_count": 81,
   "metadata": {
    "collapsed": false,
    "pycharm": {
     "name": "#%%\n"
    }
   },
   "outputs": [],
   "source": [
    "output = pd.DataFrame({'TransactionID':full_test.TransactionID, 'isFraud':y_preds})"
   ]
  },
  {
   "cell_type": "code",
   "execution_count": 75,
   "metadata": {
    "collapsed": false,
    "pycharm": {
     "name": "#%%\n"
    }
   },
   "outputs": [
    {
     "data": {
      "text/plain": "   TransactionID  isFraud\n0        3663549        0\n1        3663550        0\n2        3663551        0\n3        3663552        0\n4        3663553        0",
      "text/html": "<div>\n<style scoped>\n    .dataframe tbody tr th:only-of-type {\n        vertical-align: middle;\n    }\n\n    .dataframe tbody tr th {\n        vertical-align: top;\n    }\n\n    .dataframe thead th {\n        text-align: right;\n    }\n</style>\n<table border=\"1\" class=\"dataframe\">\n  <thead>\n    <tr style=\"text-align: right;\">\n      <th></th>\n      <th>TransactionID</th>\n      <th>isFraud</th>\n    </tr>\n  </thead>\n  <tbody>\n    <tr>\n      <th>0</th>\n      <td>3663549</td>\n      <td>0</td>\n    </tr>\n    <tr>\n      <th>1</th>\n      <td>3663550</td>\n      <td>0</td>\n    </tr>\n    <tr>\n      <th>2</th>\n      <td>3663551</td>\n      <td>0</td>\n    </tr>\n    <tr>\n      <th>3</th>\n      <td>3663552</td>\n      <td>0</td>\n    </tr>\n    <tr>\n      <th>4</th>\n      <td>3663553</td>\n      <td>0</td>\n    </tr>\n  </tbody>\n</table>\n</div>"
     },
     "execution_count": 75,
     "metadata": {},
     "output_type": "execute_result"
    }
   ],
   "source": [
    "output.head()"
   ]
  },
  {
   "cell_type": "code",
   "execution_count": 82,
   "metadata": {
    "collapsed": false,
    "pycharm": {
     "name": "#%%\n"
    }
   },
   "outputs": [],
   "source": [
    "output.to_csv('Data/output.csv', index=False)"
   ]
  },
  {
   "cell_type": "code",
   "execution_count": null,
   "metadata": {},
   "outputs": [],
   "source": [
    "np.sum(y_preds) / len(y_preds)"
   ]
  },
  {
   "cell_type": "code",
   "execution_count": null,
   "metadata": {},
   "outputs": [],
   "source": [
    "np.sum(y) /len(y)"
   ]
  },
  {
   "cell_type": "code",
   "execution_count": 105,
   "metadata": {},
   "outputs": [],
   "source": [
    "L = len(oli)"
   ]
  },
  {
   "cell_type": "code",
   "execution_count": 106,
   "metadata": {},
   "outputs": [],
   "source": [
    "subset = oli[:int(L)].copy()\n",
    "\n",
    "sub_train = subset[:int(len(subset)*0.8)]\n",
    "sub_test = subset[int(len(subset)*0.8):]"
   ]
  },
  {
   "cell_type": "code",
   "execution_count": 107,
   "metadata": {},
   "outputs": [],
   "source": [
    "new_for = RandomForestClassifier(n_estimators=100, max_depth=10)"
   ]
  },
  {
   "cell_type": "code",
   "execution_count": 108,
   "metadata": {},
   "outputs": [
    {
     "name": "stdout",
     "output_type": "stream",
     "text": [
      "['TransactionID', 'id_17', 'TransactionDT', 'card3', 'id_35_F', 'id_35_T', 'id_15_Found', 'id_15_New', 'id_15_Unknown', 'id_16_Found', 'id_16_NotFound', 'id_28_Found', 'id_28_New', 'id_29_Found', 'id_29_NotFound', 'id_30_Android 7.0', 'id_30_Mac OS X 10_11_6', 'id_30_Mac OS X 10_12_6', 'id_30_Windows 10', 'id_30_Windows 7', 'id_30_iOS 11.1.2', 'id_30_iOS 11.2.1', 'id_30_other', 'id_33_1136x640', 'id_33_1280x1024', 'id_33_1280x800', 'id_33_1334x750', 'id_33_1366x768', 'id_33_1440x900', 'id_33_1600x900', 'id_33_1680x1050', 'id_33_1920x1080', 'id_33_2048x1536', 'id_33_2208x1242', 'id_33_2560x1440', 'id_33_2560x1600', 'id_33_2880x1800', 'id_33_other', 'DeviceInfo_MacOS', 'DeviceInfo_Trident/7.0', 'DeviceInfo_Windows', 'DeviceInfo_iOS Device', 'DeviceInfo_other', 'ProductCD_C', 'ProductCD_H', 'ProductCD_R', 'ProductCD_S', 'ProductCD_W', 'P_emaildomain_anonymous.com', 'P_emaildomain_gmail.com', 'P_emaildomain_hotmail.com', 'P_emaildomain_other', 'P_emaildomain_yahoo.com']\n"
     ]
    },
    {
     "data": {
      "text/plain": "RandomForestClassifier(max_depth=10)"
     },
     "execution_count": 108,
     "metadata": {},
     "output_type": "execute_result"
    }
   ],
   "source": [
    "sub_y_train = sub_train['isFraud']\n",
    "\n",
    "sub_x_train = sub_train.drop('isFraud', axis=1)\n",
    "\n",
    "sub_x_train = first_pipeline.transform(sub_x_train)\n",
    "\n",
    "print(sub_x_train.columns.to_list())\n",
    "\n",
    "new_for.fit(sub_x_train, sub_y_train)"
   ]
  },
  {
   "cell_type": "code",
   "execution_count": 110,
   "metadata": {},
   "outputs": [
    {
     "name": "stdout",
     "output_type": "stream",
     "text": [
      "['TransactionID', 'id_17', 'TransactionDT', 'card3', 'id_35_F', 'id_35_T', 'id_15_Found', 'id_15_New', 'id_15_Unknown', 'id_16_Found', 'id_16_NotFound', 'id_28_Found', 'id_28_New', 'id_29_Found', 'id_29_NotFound', 'id_30_Android 7.0', 'id_30_Mac OS X 10_11_6', 'id_30_Mac OS X 10_12_6', 'id_30_Windows 10', 'id_30_Windows 7', 'id_30_iOS 11.1.2', 'id_30_iOS 11.2.1', 'id_30_other', 'id_33_1136x640', 'id_33_1280x1024', 'id_33_1280x800', 'id_33_1334x750', 'id_33_1366x768', 'id_33_1440x900', 'id_33_1600x900', 'id_33_1680x1050', 'id_33_1920x1080', 'id_33_2048x1536', 'id_33_2208x1242', 'id_33_2560x1440', 'id_33_2560x1600', 'id_33_2880x1800', 'id_33_other', 'DeviceInfo_MacOS', 'DeviceInfo_Trident/7.0', 'DeviceInfo_Windows', 'DeviceInfo_iOS Device', 'DeviceInfo_other', 'ProductCD_C', 'ProductCD_H', 'ProductCD_R', 'ProductCD_S', 'ProductCD_W', 'P_emaildomain_anonymous.com', 'P_emaildomain_gmail.com', 'P_emaildomain_hotmail.com', 'P_emaildomain_other', 'P_emaildomain_yahoo.com']\n"
     ]
    }
   ],
   "source": [
    "sub_y_test = sub_test['isFraud']\n",
    "\n",
    "sub_x_test = sub_test.drop('isFraud', axis=1)\n",
    "\n",
    "sub_x_test = first_pipeline.transform(sub_x_test)\n",
    "\n",
    "print(sub_x_test.columns.to_list())\n",
    "\n",
    "sub_y_preds = new_for.predict(sub_x_test)"
   ]
  },
  {
   "cell_type": "code",
   "execution_count": 111,
   "metadata": {},
   "outputs": [
    {
     "data": {
      "text/plain": "array([[114044,      0],\n       [  4064,      0]])"
     },
     "execution_count": 111,
     "metadata": {},
     "output_type": "execute_result"
    }
   ],
   "source": [
    "mat = confusion_matrix(sub_y_test, sub_y_preds)\n",
    "\n",
    "mat"
   ]
  },
  {
   "cell_type": "code",
   "execution_count": 112,
   "metadata": {},
   "outputs": [
    {
     "data": {
      "text/plain": "0.0"
     },
     "execution_count": 112,
     "metadata": {},
     "output_type": "execute_result"
    }
   ],
   "source": [
    "sub_f = f1_score(sub_y_test, sub_y_preds)\n",
    "\n",
    "sub_f"
   ]
  },
  {
   "cell_type": "code",
   "execution_count": 119,
   "metadata": {},
   "outputs": [
    {
     "name": "stdout",
     "output_type": "stream",
     "text": [
      "Features:  2\n",
      "\n",
      "[[110324   3720]\n",
      " [  3495    569]]\n",
      "\n",
      "0.13623847719382257\n",
      "\n",
      "0.4612505666327294\n",
      "-------------------------------------\n",
      "Features:  3\n",
      "\n",
      "[[110340   3704]\n",
      " [  3502    562]]\n",
      "\n",
      "0.1349339735894358\n",
      "\n",
      "0.5350701773621287\n",
      "-------------------------------------\n",
      "Features:  4\n",
      "\n",
      "[[110457   3587]\n",
      " [  3500    564]]\n",
      "\n",
      "0.13730979914790017\n",
      "\n",
      "0.467361283768221\n",
      "-------------------------------------\n",
      "Features:  5\n",
      "\n",
      "[[110347   3697]\n",
      " [  3500    564]]\n",
      "\n",
      "0.1354954954954955\n",
      "\n",
      "0.5431504157498819\n",
      "-------------------------------------\n",
      "Features:  6\n",
      "\n",
      "[[110343   3701]\n",
      " [  3499    565]]\n",
      "\n",
      "0.13565426170468187\n",
      "\n",
      "0.4643992253076378\n",
      "-------------------------------------\n",
      "Features:  7\n",
      "\n",
      "[[110330   3714]\n",
      " [  3494    570]]\n",
      "\n",
      "0.13655965500718734\n",
      "\n",
      "0.5130324481319822\n",
      "-------------------------------------\n",
      "Features:  8\n",
      "\n",
      "[[110320   3724]\n",
      " [  3500    564]]\n",
      "\n",
      "0.13505747126436782\n",
      "\n",
      "0.5271533718026223\n",
      "-------------------------------------\n",
      "Features:  9\n",
      "\n",
      "[[110364   3680]\n",
      " [  3500    564]]\n",
      "\n",
      "0.13577274915743862\n",
      "\n",
      "0.5283830664490733\n",
      "-------------------------------------\n"
     ]
    }
   ],
   "source": [
    "from sklearn.metrics import roc_auc_score\n",
    "\n",
    "for i in range(2, 10, 1):\n",
    "    clf = RandomForestClassifier(criterion='gini', max_depth=30, bootstrap=False, max_features=7, min_samples_leaf=1,\n",
    "                                 min_samples_split=4,)\n",
    "    \n",
    "    clf.fit(sub_x_train, sub_y_train)\n",
    "    \n",
    "    p = clf.predict(sub_x_test)\n",
    "    \n",
    "    print(\"Features: \", i)\n",
    "    print()\n",
    "    print(confusion_matrix(sub_y_test, p))\n",
    "    print()\n",
    "    print(f1_score(sub_y_test,p))\n",
    "    print()\n",
    "    print(roc_auc_score(sub_y_test, clf.predict_proba(sub_x_test)[:, 1]))\n",
    "    print(\"-------------------------------------\")"
   ]
  },
  {
   "cell_type": "markdown",
   "source": [
    "Max depth:  35\n",
    "\n",
    "[[110382   3662]\n",
    " [  3499    565]]\n",
    "\n",
    "0.1362923652152937\n",
    "\n",
    "0.4908975334702975"
   ],
   "metadata": {
    "collapsed": false,
    "pycharm": {
     "name": "#%% md\n"
    }
   }
  }
 ],
 "metadata": {
  "interpreter": {
   "hash": "7e1998ff7f8aa20ada591c520b972326324e5ea05489af9e422744c7c09f6dad"
  },
  "kernelspec": {
   "display_name": "Python 3 (ipykernel)",
   "language": "python",
   "name": "python3"
  },
  "language_info": {
   "codemirror_mode": {
    "name": "ipython",
    "version": 3
   },
   "file_extension": ".py",
   "mimetype": "text/x-python",
   "name": "python",
   "nbconvert_exporter": "python",
   "pygments_lexer": "ipython3",
   "version": "3.9.10"
  }
 },
 "nbformat": 4,
 "nbformat_minor": 2
}
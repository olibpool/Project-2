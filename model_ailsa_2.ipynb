{
 "cells": [
  {
   "cell_type": "code",
   "execution_count": 1,
   "metadata": {
    "collapsed": true
   },
   "outputs": [],
   "source": [
    "import pandas as pd\n",
    "import numpy as np\n",
    "import matplotlib.pyplot as plt\n",
    "%matplotlib inline"
   ]
  },
  {
   "cell_type": "code",
   "execution_count": 5,
   "outputs": [
    {
     "name": "stderr",
     "output_type": "stream",
     "text": [
      "/usr/local/lib/python3.9/site-packages/IPython/core/interactiveshell.py:3251: DtypeWarning: Columns (8) have mixed types.Specify dtype option on import or set low_memory=False.\n",
      "  exec(code_obj, self.user_global_ns, self.user_ns)\n"
     ]
    }
   ],
   "source": [
    "train = pd.read_csv(\"Data/ailsa/Ailsadata2.csv\", index_col=0)\n",
    "test = pd.read_csv(\"Data/ailsa/Ailsatest2.csv\")"
   ],
   "metadata": {
    "collapsed": false,
    "pycharm": {
     "name": "#%%\n"
    }
   }
  },
  {
   "cell_type": "code",
   "execution_count": 14,
   "outputs": [],
   "source": [
    "train_cols = train.columns.to_list()\n",
    "test_cols = test.columns.to_list()"
   ],
   "metadata": {
    "collapsed": false,
    "pycharm": {
     "name": "#%%\n"
    }
   }
  },
  {
   "cell_type": "code",
   "execution_count": 37,
   "outputs": [
    {
     "data": {
      "text/plain": "   TransactionID  isFraud  TransactionAmt ProductCD card3       card4   card6  \\\n1        2987000        0            68.5         W   150    discover  credit   \n2        2987001        0            29.0         W   150  mastercard  credit   \n3        2987002        0            59.0         W   150        visa   debit   \n4        2987003        0            50.0         W   150  mastercard   debit   \n5        2987004        0            50.0         H   150  mastercard  credit   \n\n  addr2       dist1 P_emaildomain  ...  M1  M2  M3  M4  M5  M6  M7  M8  M9  \\\n1    87   19.000000        google  ...   1   1   1  M2   0   1   0   0   1   \n2    87  118.502948        google  ...   1   1   1  M0   1   1   0   0   1   \n3    87  287.000000     Microsoft  ...   1   1   1  M0   0   0   0   0   0   \n4    87  118.502948         yahoo  ...   1   1   1  M0   1   0   0   0   1   \n5    87  118.502948        google  ...   1   1   1  M0   0   0   0   0   1   \n\n   hour  \n1     0  \n2     0  \n3     0  \n4     0  \n5     0  \n\n[5 rows x 42 columns]",
      "text/html": "<div>\n<style scoped>\n    .dataframe tbody tr th:only-of-type {\n        vertical-align: middle;\n    }\n\n    .dataframe tbody tr th {\n        vertical-align: top;\n    }\n\n    .dataframe thead th {\n        text-align: right;\n    }\n</style>\n<table border=\"1\" class=\"dataframe\">\n  <thead>\n    <tr style=\"text-align: right;\">\n      <th></th>\n      <th>TransactionID</th>\n      <th>isFraud</th>\n      <th>TransactionAmt</th>\n      <th>ProductCD</th>\n      <th>card3</th>\n      <th>card4</th>\n      <th>card6</th>\n      <th>addr2</th>\n      <th>dist1</th>\n      <th>P_emaildomain</th>\n      <th>...</th>\n      <th>M1</th>\n      <th>M2</th>\n      <th>M3</th>\n      <th>M4</th>\n      <th>M5</th>\n      <th>M6</th>\n      <th>M7</th>\n      <th>M8</th>\n      <th>M9</th>\n      <th>hour</th>\n    </tr>\n  </thead>\n  <tbody>\n    <tr>\n      <th>1</th>\n      <td>2987000</td>\n      <td>0</td>\n      <td>68.5</td>\n      <td>W</td>\n      <td>150</td>\n      <td>discover</td>\n      <td>credit</td>\n      <td>87</td>\n      <td>19.000000</td>\n      <td>google</td>\n      <td>...</td>\n      <td>1</td>\n      <td>1</td>\n      <td>1</td>\n      <td>M2</td>\n      <td>0</td>\n      <td>1</td>\n      <td>0</td>\n      <td>0</td>\n      <td>1</td>\n      <td>0</td>\n    </tr>\n    <tr>\n      <th>2</th>\n      <td>2987001</td>\n      <td>0</td>\n      <td>29.0</td>\n      <td>W</td>\n      <td>150</td>\n      <td>mastercard</td>\n      <td>credit</td>\n      <td>87</td>\n      <td>118.502948</td>\n      <td>google</td>\n      <td>...</td>\n      <td>1</td>\n      <td>1</td>\n      <td>1</td>\n      <td>M0</td>\n      <td>1</td>\n      <td>1</td>\n      <td>0</td>\n      <td>0</td>\n      <td>1</td>\n      <td>0</td>\n    </tr>\n    <tr>\n      <th>3</th>\n      <td>2987002</td>\n      <td>0</td>\n      <td>59.0</td>\n      <td>W</td>\n      <td>150</td>\n      <td>visa</td>\n      <td>debit</td>\n      <td>87</td>\n      <td>287.000000</td>\n      <td>Microsoft</td>\n      <td>...</td>\n      <td>1</td>\n      <td>1</td>\n      <td>1</td>\n      <td>M0</td>\n      <td>0</td>\n      <td>0</td>\n      <td>0</td>\n      <td>0</td>\n      <td>0</td>\n      <td>0</td>\n    </tr>\n    <tr>\n      <th>4</th>\n      <td>2987003</td>\n      <td>0</td>\n      <td>50.0</td>\n      <td>W</td>\n      <td>150</td>\n      <td>mastercard</td>\n      <td>debit</td>\n      <td>87</td>\n      <td>118.502948</td>\n      <td>yahoo</td>\n      <td>...</td>\n      <td>1</td>\n      <td>1</td>\n      <td>1</td>\n      <td>M0</td>\n      <td>1</td>\n      <td>0</td>\n      <td>0</td>\n      <td>0</td>\n      <td>1</td>\n      <td>0</td>\n    </tr>\n    <tr>\n      <th>5</th>\n      <td>2987004</td>\n      <td>0</td>\n      <td>50.0</td>\n      <td>H</td>\n      <td>150</td>\n      <td>mastercard</td>\n      <td>credit</td>\n      <td>87</td>\n      <td>118.502948</td>\n      <td>google</td>\n      <td>...</td>\n      <td>1</td>\n      <td>1</td>\n      <td>1</td>\n      <td>M0</td>\n      <td>0</td>\n      <td>0</td>\n      <td>0</td>\n      <td>0</td>\n      <td>1</td>\n      <td>0</td>\n    </tr>\n  </tbody>\n</table>\n<p>5 rows × 42 columns</p>\n</div>"
     },
     "execution_count": 37,
     "metadata": {},
     "output_type": "execute_result"
    }
   ],
   "source": [
    "train.head()"
   ],
   "metadata": {
    "collapsed": false,
    "pycharm": {
     "name": "#%%\n"
    }
   }
  },
  {
   "cell_type": "code",
   "execution_count": 19,
   "outputs": [],
   "source": [
    "from sklearn.ensemble import RandomForestClassifier\n",
    "\n",
    "forest = RandomForestClassifier(n_estimators=100, bootstrap=False)\n"
   ],
   "metadata": {
    "collapsed": false,
    "pycharm": {
     "name": "#%%\n"
    }
   }
  },
  {
   "cell_type": "code",
   "execution_count": 44,
   "outputs": [
    {
     "data": {
      "text/plain": "RandomForestClassifier(bootstrap=False)"
     },
     "execution_count": 44,
     "metadata": {},
     "output_type": "execute_result"
    }
   ],
   "source": [
    "y = train.isFraud\n",
    "\n",
    "num_cols = test.select_dtypes(exclude=object).columns.to_list()\n",
    "\n",
    "X = train[num_cols]\n",
    "\n",
    "forest.fit(X,y)"
   ],
   "metadata": {
    "collapsed": false,
    "pycharm": {
     "name": "#%%\n"
    }
   }
  },
  {
   "cell_type": "code",
   "execution_count": 56,
   "outputs": [
    {
     "data": {
      "text/plain": "   TransactionID  TransactionAmt   dist1   C1   C2   C3   C4   C5   C6   C7  \\\n0        3663549           31.95     1.0  6.0  6.0  0.0  0.0  3.0  4.0  0.0   \n1        3663550           49.00     4.0  3.0  2.0  0.0  0.0  0.0  1.0  0.0   \n2        3663551          171.00  2635.0  2.0  2.0  0.0  0.0  0.0  5.0  0.0   \n3        3663552          284.95    17.0  5.0  2.0  0.0  0.0  1.0  1.0  0.0   \n4        3663553           67.95     6.0  6.0  6.0  0.0  0.0  2.0  5.0  0.0   \n\n   ...    D15  M1  M2  M3  M5  M6  M7  M8  M9  hour  \n0  ...  409.0   1   1   0   0   0   1   1   1     0  \n1  ...  634.0   1   0   0   0   0   0   0   1     0  \n2  ...   97.0   1   1   0   0   0   0   0   0     0  \n3  ...  242.0   1   1   1   0   1   0   0   1     0  \n4  ...   22.0   1   1   1   0   0   0   1   1     0  \n\n[5 rows x 34 columns]",
      "text/html": "<div>\n<style scoped>\n    .dataframe tbody tr th:only-of-type {\n        vertical-align: middle;\n    }\n\n    .dataframe tbody tr th {\n        vertical-align: top;\n    }\n\n    .dataframe thead th {\n        text-align: right;\n    }\n</style>\n<table border=\"1\" class=\"dataframe\">\n  <thead>\n    <tr style=\"text-align: right;\">\n      <th></th>\n      <th>TransactionID</th>\n      <th>TransactionAmt</th>\n      <th>dist1</th>\n      <th>C1</th>\n      <th>C2</th>\n      <th>C3</th>\n      <th>C4</th>\n      <th>C5</th>\n      <th>C6</th>\n      <th>C7</th>\n      <th>...</th>\n      <th>D15</th>\n      <th>M1</th>\n      <th>M2</th>\n      <th>M3</th>\n      <th>M5</th>\n      <th>M6</th>\n      <th>M7</th>\n      <th>M8</th>\n      <th>M9</th>\n      <th>hour</th>\n    </tr>\n  </thead>\n  <tbody>\n    <tr>\n      <th>0</th>\n      <td>3663549</td>\n      <td>31.95</td>\n      <td>1.0</td>\n      <td>6.0</td>\n      <td>6.0</td>\n      <td>0.0</td>\n      <td>0.0</td>\n      <td>3.0</td>\n      <td>4.0</td>\n      <td>0.0</td>\n      <td>...</td>\n      <td>409.0</td>\n      <td>1</td>\n      <td>1</td>\n      <td>0</td>\n      <td>0</td>\n      <td>0</td>\n      <td>1</td>\n      <td>1</td>\n      <td>1</td>\n      <td>0</td>\n    </tr>\n    <tr>\n      <th>1</th>\n      <td>3663550</td>\n      <td>49.00</td>\n      <td>4.0</td>\n      <td>3.0</td>\n      <td>2.0</td>\n      <td>0.0</td>\n      <td>0.0</td>\n      <td>0.0</td>\n      <td>1.0</td>\n      <td>0.0</td>\n      <td>...</td>\n      <td>634.0</td>\n      <td>1</td>\n      <td>0</td>\n      <td>0</td>\n      <td>0</td>\n      <td>0</td>\n      <td>0</td>\n      <td>0</td>\n      <td>1</td>\n      <td>0</td>\n    </tr>\n    <tr>\n      <th>2</th>\n      <td>3663551</td>\n      <td>171.00</td>\n      <td>2635.0</td>\n      <td>2.0</td>\n      <td>2.0</td>\n      <td>0.0</td>\n      <td>0.0</td>\n      <td>0.0</td>\n      <td>5.0</td>\n      <td>0.0</td>\n      <td>...</td>\n      <td>97.0</td>\n      <td>1</td>\n      <td>1</td>\n      <td>0</td>\n      <td>0</td>\n      <td>0</td>\n      <td>0</td>\n      <td>0</td>\n      <td>0</td>\n      <td>0</td>\n    </tr>\n    <tr>\n      <th>3</th>\n      <td>3663552</td>\n      <td>284.95</td>\n      <td>17.0</td>\n      <td>5.0</td>\n      <td>2.0</td>\n      <td>0.0</td>\n      <td>0.0</td>\n      <td>1.0</td>\n      <td>1.0</td>\n      <td>0.0</td>\n      <td>...</td>\n      <td>242.0</td>\n      <td>1</td>\n      <td>1</td>\n      <td>1</td>\n      <td>0</td>\n      <td>1</td>\n      <td>0</td>\n      <td>0</td>\n      <td>1</td>\n      <td>0</td>\n    </tr>\n    <tr>\n      <th>4</th>\n      <td>3663553</td>\n      <td>67.95</td>\n      <td>6.0</td>\n      <td>6.0</td>\n      <td>6.0</td>\n      <td>0.0</td>\n      <td>0.0</td>\n      <td>2.0</td>\n      <td>5.0</td>\n      <td>0.0</td>\n      <td>...</td>\n      <td>22.0</td>\n      <td>1</td>\n      <td>1</td>\n      <td>1</td>\n      <td>0</td>\n      <td>0</td>\n      <td>0</td>\n      <td>1</td>\n      <td>1</td>\n      <td>0</td>\n    </tr>\n  </tbody>\n</table>\n<p>5 rows × 34 columns</p>\n</div>"
     },
     "execution_count": 56,
     "metadata": {},
     "output_type": "execute_result"
    }
   ],
   "source": [
    "X_test = test[num_cols]\n",
    "\n",
    "X_test.head()"
   ],
   "metadata": {
    "collapsed": false,
    "pycharm": {
     "name": "#%%\n"
    }
   }
  },
  {
   "cell_type": "code",
   "execution_count": 58,
   "outputs": [
    {
     "data": {
      "text/plain": "   TransactionID  TransactionAmt   dist1   C1   C2   C3   C4   C5   C6   C7  \\\n0        3663549           31.95     1.0  6.0  6.0  0.0  0.0  3.0  4.0  0.0   \n1        3663550           49.00     4.0  3.0  2.0  0.0  0.0  0.0  1.0  0.0   \n2        3663551          171.00  2635.0  2.0  2.0  0.0  0.0  0.0  5.0  0.0   \n3        3663552          284.95    17.0  5.0  2.0  0.0  0.0  1.0  1.0  0.0   \n4        3663553           67.95     6.0  6.0  6.0  0.0  0.0  2.0  5.0  0.0   \n\n   ...    D15  M1  M2  M3  M5  M6  M7  M8  M9  hour  \n0  ...  409.0   1   1   0   0   0   1   1   1     0  \n1  ...  634.0   1   0   0   0   0   0   0   1     0  \n2  ...   97.0   1   1   0   0   0   0   0   0     0  \n3  ...  242.0   1   1   1   0   1   0   0   1     0  \n4  ...   22.0   1   1   1   0   0   0   1   1     0  \n\n[5 rows x 34 columns]",
      "text/html": "<div>\n<style scoped>\n    .dataframe tbody tr th:only-of-type {\n        vertical-align: middle;\n    }\n\n    .dataframe tbody tr th {\n        vertical-align: top;\n    }\n\n    .dataframe thead th {\n        text-align: right;\n    }\n</style>\n<table border=\"1\" class=\"dataframe\">\n  <thead>\n    <tr style=\"text-align: right;\">\n      <th></th>\n      <th>TransactionID</th>\n      <th>TransactionAmt</th>\n      <th>dist1</th>\n      <th>C1</th>\n      <th>C2</th>\n      <th>C3</th>\n      <th>C4</th>\n      <th>C5</th>\n      <th>C6</th>\n      <th>C7</th>\n      <th>...</th>\n      <th>D15</th>\n      <th>M1</th>\n      <th>M2</th>\n      <th>M3</th>\n      <th>M5</th>\n      <th>M6</th>\n      <th>M7</th>\n      <th>M8</th>\n      <th>M9</th>\n      <th>hour</th>\n    </tr>\n  </thead>\n  <tbody>\n    <tr>\n      <th>0</th>\n      <td>3663549</td>\n      <td>31.95</td>\n      <td>1.0</td>\n      <td>6.0</td>\n      <td>6.0</td>\n      <td>0.0</td>\n      <td>0.0</td>\n      <td>3.0</td>\n      <td>4.0</td>\n      <td>0.0</td>\n      <td>...</td>\n      <td>409.0</td>\n      <td>1</td>\n      <td>1</td>\n      <td>0</td>\n      <td>0</td>\n      <td>0</td>\n      <td>1</td>\n      <td>1</td>\n      <td>1</td>\n      <td>0</td>\n    </tr>\n    <tr>\n      <th>1</th>\n      <td>3663550</td>\n      <td>49.00</td>\n      <td>4.0</td>\n      <td>3.0</td>\n      <td>2.0</td>\n      <td>0.0</td>\n      <td>0.0</td>\n      <td>0.0</td>\n      <td>1.0</td>\n      <td>0.0</td>\n      <td>...</td>\n      <td>634.0</td>\n      <td>1</td>\n      <td>0</td>\n      <td>0</td>\n      <td>0</td>\n      <td>0</td>\n      <td>0</td>\n      <td>0</td>\n      <td>1</td>\n      <td>0</td>\n    </tr>\n    <tr>\n      <th>2</th>\n      <td>3663551</td>\n      <td>171.00</td>\n      <td>2635.0</td>\n      <td>2.0</td>\n      <td>2.0</td>\n      <td>0.0</td>\n      <td>0.0</td>\n      <td>0.0</td>\n      <td>5.0</td>\n      <td>0.0</td>\n      <td>...</td>\n      <td>97.0</td>\n      <td>1</td>\n      <td>1</td>\n      <td>0</td>\n      <td>0</td>\n      <td>0</td>\n      <td>0</td>\n      <td>0</td>\n      <td>0</td>\n      <td>0</td>\n    </tr>\n    <tr>\n      <th>3</th>\n      <td>3663552</td>\n      <td>284.95</td>\n      <td>17.0</td>\n      <td>5.0</td>\n      <td>2.0</td>\n      <td>0.0</td>\n      <td>0.0</td>\n      <td>1.0</td>\n      <td>1.0</td>\n      <td>0.0</td>\n      <td>...</td>\n      <td>242.0</td>\n      <td>1</td>\n      <td>1</td>\n      <td>1</td>\n      <td>0</td>\n      <td>1</td>\n      <td>0</td>\n      <td>0</td>\n      <td>1</td>\n      <td>0</td>\n    </tr>\n    <tr>\n      <th>4</th>\n      <td>3663553</td>\n      <td>67.95</td>\n      <td>6.0</td>\n      <td>6.0</td>\n      <td>6.0</td>\n      <td>0.0</td>\n      <td>0.0</td>\n      <td>2.0</td>\n      <td>5.0</td>\n      <td>0.0</td>\n      <td>...</td>\n      <td>22.0</td>\n      <td>1</td>\n      <td>1</td>\n      <td>1</td>\n      <td>0</td>\n      <td>0</td>\n      <td>0</td>\n      <td>1</td>\n      <td>1</td>\n      <td>0</td>\n    </tr>\n  </tbody>\n</table>\n<p>5 rows × 34 columns</p>\n</div>"
     },
     "execution_count": 58,
     "metadata": {},
     "output_type": "execute_result"
    }
   ],
   "source": [
    "X_test_fill = X_test.fillna(X_test.mean())\n",
    "\n",
    "X_test_fill.head()"
   ],
   "metadata": {
    "collapsed": false,
    "pycharm": {
     "name": "#%%\n"
    }
   }
  },
  {
   "cell_type": "code",
   "execution_count": 59,
   "outputs": [],
   "source": [
    "predictions = forest.predict(X_test_fill)"
   ],
   "metadata": {
    "collapsed": false,
    "pycharm": {
     "name": "#%%\n"
    }
   }
  },
  {
   "cell_type": "code",
   "execution_count": 60,
   "outputs": [],
   "source": [
    "output = pd.DataFrame({'TransactionID': test.TransactionID,\n",
    "                       'isFraud': predictions})\n",
    "\n",
    "output.to_csv(\"Data/ailsa/testing.csv\", index=False)"
   ],
   "metadata": {
    "collapsed": false,
    "pycharm": {
     "name": "#%%\n"
    }
   }
  },
  {
   "cell_type": "markdown",
   "source": [
    "actually ok wtf\n",
    "\n",
    "now try with categorical columns"
   ],
   "metadata": {
    "collapsed": false
   }
  },
  {
   "cell_type": "code",
   "execution_count": 82,
   "outputs": [],
   "source": [
    "new_train = train.drop('isFraud', axis=1)\n",
    "\n",
    "new_train = pd.get_dummies(new_train)"
   ],
   "metadata": {
    "collapsed": false,
    "pycharm": {
     "name": "#%%\n"
    }
   }
  },
  {
   "cell_type": "code",
   "execution_count": 89,
   "outputs": [
    {
     "data": {
      "text/plain": "        TransactionID  TransactionAmt       dist1  C1  C2  C3  C4  C5  C6  C7  \\\n1             2987000           68.50   19.000000   1   1   0   0   0   1   0   \n2             2987001           29.00  118.502948   1   1   0   0   0   1   0   \n3             2987002           59.00  287.000000   1   1   0   0   0   1   0   \n4             2987003           50.00  118.502948   2   5   0   0   0   4   0   \n5             2987004           50.00  118.502948   1   1   0   0   0   1   0   \n...               ...             ...         ...  ..  ..  ..  ..  ..  ..  ..   \n590536        3577535           49.00   48.000000   2   1   0   0   1   0   0   \n590537        3577536           39.50  118.502948   1   1   0   0   0   1   0   \n590538        3577537           30.95  118.502948   1   1   0   0   1   1   0   \n590539        3577538          117.00    3.000000   1   1   0   0   0   3   0   \n590540        3577539          279.95  118.502948   2   1   0   0   1   1   0   \n\n        ...  P_emaildomain_roadrunner.com  P_emaildomain_rocketmail.com  \\\n1       ...                             0                             0   \n2       ...                             0                             0   \n3       ...                             0                             0   \n4       ...                             0                             0   \n5       ...                             0                             0   \n...     ...                           ...                           ...   \n590536  ...                             0                             0   \n590537  ...                             0                             0   \n590538  ...                             0                             0   \n590539  ...                             0                             0   \n590540  ...                             0                             0   \n\n        P_emaildomain_sbcglobal.net  P_emaildomain_verizon.net  \\\n1                                 0                          0   \n2                                 0                          0   \n3                                 0                          0   \n4                                 0                          0   \n5                                 0                          0   \n...                             ...                        ...   \n590536                            0                          0   \n590537                            0                          0   \n590538                            0                          0   \n590539                            0                          0   \n590540                            0                          0   \n\n        P_emaildomain_windstream.net  P_emaildomain_yahoo  \\\n1                                  0                    0   \n2                                  0                    0   \n3                                  0                    0   \n4                                  0                    1   \n5                                  0                    0   \n...                              ...                  ...   \n590536                             0                    0   \n590537                             0                    0   \n590538                             0                    0   \n590539                             0                    0   \n590540                             0                    0   \n\n        P_emaildomain_ymail.com  M4_M0  M4_M1  M4_M2  \n1                             0      0      0      1  \n2                             0      1      0      0  \n3                             0      1      0      0  \n4                             0      1      0      0  \n5                             0      1      0      0  \n...                         ...    ...    ...    ...  \n590536                        0      1      0      0  \n590537                        0      1      0      0  \n590538                        0      1      0      0  \n590539                        0      1      0      0  \n590540                        0      1      0      0  \n\n[590538 rows x 80 columns]",
      "text/html": "<div>\n<style scoped>\n    .dataframe tbody tr th:only-of-type {\n        vertical-align: middle;\n    }\n\n    .dataframe tbody tr th {\n        vertical-align: top;\n    }\n\n    .dataframe thead th {\n        text-align: right;\n    }\n</style>\n<table border=\"1\" class=\"dataframe\">\n  <thead>\n    <tr style=\"text-align: right;\">\n      <th></th>\n      <th>TransactionID</th>\n      <th>TransactionAmt</th>\n      <th>dist1</th>\n      <th>C1</th>\n      <th>C2</th>\n      <th>C3</th>\n      <th>C4</th>\n      <th>C5</th>\n      <th>C6</th>\n      <th>C7</th>\n      <th>...</th>\n      <th>P_emaildomain_roadrunner.com</th>\n      <th>P_emaildomain_rocketmail.com</th>\n      <th>P_emaildomain_sbcglobal.net</th>\n      <th>P_emaildomain_verizon.net</th>\n      <th>P_emaildomain_windstream.net</th>\n      <th>P_emaildomain_yahoo</th>\n      <th>P_emaildomain_ymail.com</th>\n      <th>M4_M0</th>\n      <th>M4_M1</th>\n      <th>M4_M2</th>\n    </tr>\n  </thead>\n  <tbody>\n    <tr>\n      <th>1</th>\n      <td>2987000</td>\n      <td>68.50</td>\n      <td>19.000000</td>\n      <td>1</td>\n      <td>1</td>\n      <td>0</td>\n      <td>0</td>\n      <td>0</td>\n      <td>1</td>\n      <td>0</td>\n      <td>...</td>\n      <td>0</td>\n      <td>0</td>\n      <td>0</td>\n      <td>0</td>\n      <td>0</td>\n      <td>0</td>\n      <td>0</td>\n      <td>0</td>\n      <td>0</td>\n      <td>1</td>\n    </tr>\n    <tr>\n      <th>2</th>\n      <td>2987001</td>\n      <td>29.00</td>\n      <td>118.502948</td>\n      <td>1</td>\n      <td>1</td>\n      <td>0</td>\n      <td>0</td>\n      <td>0</td>\n      <td>1</td>\n      <td>0</td>\n      <td>...</td>\n      <td>0</td>\n      <td>0</td>\n      <td>0</td>\n      <td>0</td>\n      <td>0</td>\n      <td>0</td>\n      <td>0</td>\n      <td>1</td>\n      <td>0</td>\n      <td>0</td>\n    </tr>\n    <tr>\n      <th>3</th>\n      <td>2987002</td>\n      <td>59.00</td>\n      <td>287.000000</td>\n      <td>1</td>\n      <td>1</td>\n      <td>0</td>\n      <td>0</td>\n      <td>0</td>\n      <td>1</td>\n      <td>0</td>\n      <td>...</td>\n      <td>0</td>\n      <td>0</td>\n      <td>0</td>\n      <td>0</td>\n      <td>0</td>\n      <td>0</td>\n      <td>0</td>\n      <td>1</td>\n      <td>0</td>\n      <td>0</td>\n    </tr>\n    <tr>\n      <th>4</th>\n      <td>2987003</td>\n      <td>50.00</td>\n      <td>118.502948</td>\n      <td>2</td>\n      <td>5</td>\n      <td>0</td>\n      <td>0</td>\n      <td>0</td>\n      <td>4</td>\n      <td>0</td>\n      <td>...</td>\n      <td>0</td>\n      <td>0</td>\n      <td>0</td>\n      <td>0</td>\n      <td>0</td>\n      <td>1</td>\n      <td>0</td>\n      <td>1</td>\n      <td>0</td>\n      <td>0</td>\n    </tr>\n    <tr>\n      <th>5</th>\n      <td>2987004</td>\n      <td>50.00</td>\n      <td>118.502948</td>\n      <td>1</td>\n      <td>1</td>\n      <td>0</td>\n      <td>0</td>\n      <td>0</td>\n      <td>1</td>\n      <td>0</td>\n      <td>...</td>\n      <td>0</td>\n      <td>0</td>\n      <td>0</td>\n      <td>0</td>\n      <td>0</td>\n      <td>0</td>\n      <td>0</td>\n      <td>1</td>\n      <td>0</td>\n      <td>0</td>\n    </tr>\n    <tr>\n      <th>...</th>\n      <td>...</td>\n      <td>...</td>\n      <td>...</td>\n      <td>...</td>\n      <td>...</td>\n      <td>...</td>\n      <td>...</td>\n      <td>...</td>\n      <td>...</td>\n      <td>...</td>\n      <td>...</td>\n      <td>...</td>\n      <td>...</td>\n      <td>...</td>\n      <td>...</td>\n      <td>...</td>\n      <td>...</td>\n      <td>...</td>\n      <td>...</td>\n      <td>...</td>\n      <td>...</td>\n    </tr>\n    <tr>\n      <th>590536</th>\n      <td>3577535</td>\n      <td>49.00</td>\n      <td>48.000000</td>\n      <td>2</td>\n      <td>1</td>\n      <td>0</td>\n      <td>0</td>\n      <td>1</td>\n      <td>0</td>\n      <td>0</td>\n      <td>...</td>\n      <td>0</td>\n      <td>0</td>\n      <td>0</td>\n      <td>0</td>\n      <td>0</td>\n      <td>0</td>\n      <td>0</td>\n      <td>1</td>\n      <td>0</td>\n      <td>0</td>\n    </tr>\n    <tr>\n      <th>590537</th>\n      <td>3577536</td>\n      <td>39.50</td>\n      <td>118.502948</td>\n      <td>1</td>\n      <td>1</td>\n      <td>0</td>\n      <td>0</td>\n      <td>0</td>\n      <td>1</td>\n      <td>0</td>\n      <td>...</td>\n      <td>0</td>\n      <td>0</td>\n      <td>0</td>\n      <td>0</td>\n      <td>0</td>\n      <td>0</td>\n      <td>0</td>\n      <td>1</td>\n      <td>0</td>\n      <td>0</td>\n    </tr>\n    <tr>\n      <th>590538</th>\n      <td>3577537</td>\n      <td>30.95</td>\n      <td>118.502948</td>\n      <td>1</td>\n      <td>1</td>\n      <td>0</td>\n      <td>0</td>\n      <td>1</td>\n      <td>1</td>\n      <td>0</td>\n      <td>...</td>\n      <td>0</td>\n      <td>0</td>\n      <td>0</td>\n      <td>0</td>\n      <td>0</td>\n      <td>0</td>\n      <td>0</td>\n      <td>1</td>\n      <td>0</td>\n      <td>0</td>\n    </tr>\n    <tr>\n      <th>590539</th>\n      <td>3577538</td>\n      <td>117.00</td>\n      <td>3.000000</td>\n      <td>1</td>\n      <td>1</td>\n      <td>0</td>\n      <td>0</td>\n      <td>0</td>\n      <td>3</td>\n      <td>0</td>\n      <td>...</td>\n      <td>0</td>\n      <td>0</td>\n      <td>0</td>\n      <td>0</td>\n      <td>0</td>\n      <td>0</td>\n      <td>0</td>\n      <td>1</td>\n      <td>0</td>\n      <td>0</td>\n    </tr>\n    <tr>\n      <th>590540</th>\n      <td>3577539</td>\n      <td>279.95</td>\n      <td>118.502948</td>\n      <td>2</td>\n      <td>1</td>\n      <td>0</td>\n      <td>0</td>\n      <td>1</td>\n      <td>1</td>\n      <td>0</td>\n      <td>...</td>\n      <td>0</td>\n      <td>0</td>\n      <td>0</td>\n      <td>0</td>\n      <td>0</td>\n      <td>0</td>\n      <td>0</td>\n      <td>1</td>\n      <td>0</td>\n      <td>0</td>\n    </tr>\n  </tbody>\n</table>\n<p>590538 rows × 80 columns</p>\n</div>"
     },
     "execution_count": 89,
     "metadata": {},
     "output_type": "execute_result"
    }
   ],
   "source": [
    "new_test = test.copy()\n",
    "\n",
    "new_test[num_cols]= X_test_fill\n",
    "\n",
    "cat_cols = new_test.select_dtypes(include=object).columns.to_list()\n",
    "\n",
    "new_test[cat_cols].fillna(new_test[cat_cols].mode())\n",
    "\n",
    "new_test = pd.get_dummies(new_test)"
   ],
   "metadata": {
    "collapsed": false,
    "pycharm": {
     "name": "#%%\n"
    }
   }
  },
  {
   "cell_type": "code",
   "execution_count": 92,
   "outputs": [],
   "source": [
    "new_train = new_train.drop('card6_debit or credit', axis=1) # needed so both test and train have smae cols"
   ],
   "metadata": {
    "collapsed": false,
    "pycharm": {
     "name": "#%%\n"
    }
   }
  },
  {
   "cell_type": "code",
   "execution_count": 93,
   "outputs": [
    {
     "data": {
      "text/plain": "RandomForestClassifier()"
     },
     "execution_count": 93,
     "metadata": {},
     "output_type": "execute_result"
    }
   ],
   "source": [
    "forest_2 = RandomForestClassifier()\n",
    "\n",
    "forest_2.fit(new_train, y)"
   ],
   "metadata": {
    "collapsed": false,
    "pycharm": {
     "name": "#%%\n"
    }
   }
  },
  {
   "cell_type": "code",
   "execution_count": 94,
   "outputs": [],
   "source": [
    "new_preds = forest_2.predict(new_test)"
   ],
   "metadata": {
    "collapsed": false,
    "pycharm": {
     "name": "#%%\n"
    }
   }
  },
  {
   "cell_type": "code",
   "execution_count": 95,
   "outputs": [],
   "source": [
    "output = pd.DataFrame({'TransactionID': test.TransactionID,\n",
    "                       'isFraud': new_preds})\n",
    "\n",
    "output.to_csv(\"Data/ailsa/testing2.csv\", index=False)"
   ],
   "metadata": {
    "collapsed": false,
    "pycharm": {
     "name": "#%%\n"
    }
   }
  }
 ],
 "metadata": {
  "kernelspec": {
   "display_name": "Python 3",
   "language": "python",
   "name": "python3"
  },
  "language_info": {
   "codemirror_mode": {
    "name": "ipython",
    "version": 2
   },
   "file_extension": ".py",
   "mimetype": "text/x-python",
   "name": "python",
   "nbconvert_exporter": "python",
   "pygments_lexer": "ipython2",
   "version": "2.7.6"
  }
 },
 "nbformat": 4,
 "nbformat_minor": 0
}